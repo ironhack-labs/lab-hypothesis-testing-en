{
 "cells": [
  {
   "cell_type": "markdown",
   "metadata": {},
   "source": [
    "# Challenge 1 - T-test\n",
    "\n",
    "In statistics, t-test is used to test if two data samples have a significant difference between their means. There are two types of t-test:\n",
    "\n",
    "* **Student's t-test** (a.k.a. independent or uncorrelated t-test). This type of t-test is to compare the samples of **two independent populations** (e.g. test scores of students in two different classes). `scipy` provides the [`ttest_ind`](https://docs.scipy.org/doc/scipy-0.15.1/reference/generated/scipy.stats.ttest_ind.html) method to conduct student's t-test.\n",
    "\n",
    "* **Paired t-test** (a.k.a. dependent or correlated t-test). This type of t-test is to compare the samples of **the same population** (e.g. scores of different tests of students in the same class). `scipy` provides the [`ttest_re`](https://docs.scipy.org/doc/scipy-0.15.1/reference/generated/scipy.stats.ttest_rel.html) method to conduct paired t-test.\n",
    "\n",
    "Both types of t-tests return a number which is called the **p-value**. If p-value is below 0.05, we can confidently declare the null-hypothesis is rejected and the difference is significant. If p-value is between 0.05 and 0.1, we may also declare the null-hypothesis is rejected but we are not highly confident. If p-value is above 0.1 we do not reject the null-hypothesis.\n",
    "\n",
    "Read more about the t-test in [this article](https://researchbasics.education.uconn.edu/t-test/) and [this Quora](https://www.quora.com/What-is-the-difference-between-a-paired-and-unpaired-t-test). Make sure you understand when to use which type of t-test. "
   ]
  },
  {
   "cell_type": "code",
   "execution_count": 36,
   "metadata": {},
   "outputs": [],
   "source": [
    "# Import libraries\n",
    "\n",
    "import pandas as pd"
   ]
  },
  {
   "cell_type": "markdown",
   "metadata": {},
   "source": [
    "#### Import dataset\n",
    "\n",
    "In this challenge we will work on the Pokemon dataset you have used last week. The goal is to test whether different groups of pokemon (e.g. Legendary vs Normal, Generation 1 vs 2, single-type vs dual-type) have different stats (e.g. HP, Attack, Defense, etc.)."
   ]
  },
  {
   "cell_type": "code",
   "execution_count": 39,
   "metadata": {},
   "outputs": [
    {
     "data": {
      "text/html": [
       "<div>\n",
       "<style scoped>\n",
       "    .dataframe tbody tr th:only-of-type {\n",
       "        vertical-align: middle;\n",
       "    }\n",
       "\n",
       "    .dataframe tbody tr th {\n",
       "        vertical-align: top;\n",
       "    }\n",
       "\n",
       "    .dataframe thead th {\n",
       "        text-align: right;\n",
       "    }\n",
       "</style>\n",
       "<table border=\"1\" class=\"dataframe\">\n",
       "  <thead>\n",
       "    <tr style=\"text-align: right;\">\n",
       "      <th></th>\n",
       "      <th>#</th>\n",
       "      <th>Name</th>\n",
       "      <th>Type 1</th>\n",
       "      <th>Type 2</th>\n",
       "      <th>Total</th>\n",
       "      <th>HP</th>\n",
       "      <th>Attack</th>\n",
       "      <th>Defense</th>\n",
       "      <th>Sp. Atk</th>\n",
       "      <th>Sp. Def</th>\n",
       "      <th>Speed</th>\n",
       "      <th>Generation</th>\n",
       "      <th>Legendary</th>\n",
       "    </tr>\n",
       "  </thead>\n",
       "  <tbody>\n",
       "    <tr>\n",
       "      <th>0</th>\n",
       "      <td>1</td>\n",
       "      <td>Bulbasaur</td>\n",
       "      <td>Grass</td>\n",
       "      <td>Poison</td>\n",
       "      <td>318</td>\n",
       "      <td>45</td>\n",
       "      <td>49</td>\n",
       "      <td>49</td>\n",
       "      <td>65</td>\n",
       "      <td>65</td>\n",
       "      <td>45</td>\n",
       "      <td>1</td>\n",
       "      <td>False</td>\n",
       "    </tr>\n",
       "    <tr>\n",
       "      <th>1</th>\n",
       "      <td>2</td>\n",
       "      <td>Ivysaur</td>\n",
       "      <td>Grass</td>\n",
       "      <td>Poison</td>\n",
       "      <td>405</td>\n",
       "      <td>60</td>\n",
       "      <td>62</td>\n",
       "      <td>63</td>\n",
       "      <td>80</td>\n",
       "      <td>80</td>\n",
       "      <td>60</td>\n",
       "      <td>1</td>\n",
       "      <td>False</td>\n",
       "    </tr>\n",
       "    <tr>\n",
       "      <th>2</th>\n",
       "      <td>3</td>\n",
       "      <td>Venusaur</td>\n",
       "      <td>Grass</td>\n",
       "      <td>Poison</td>\n",
       "      <td>525</td>\n",
       "      <td>80</td>\n",
       "      <td>82</td>\n",
       "      <td>83</td>\n",
       "      <td>100</td>\n",
       "      <td>100</td>\n",
       "      <td>80</td>\n",
       "      <td>1</td>\n",
       "      <td>False</td>\n",
       "    </tr>\n",
       "    <tr>\n",
       "      <th>3</th>\n",
       "      <td>3</td>\n",
       "      <td>VenusaurMega Venusaur</td>\n",
       "      <td>Grass</td>\n",
       "      <td>Poison</td>\n",
       "      <td>625</td>\n",
       "      <td>80</td>\n",
       "      <td>100</td>\n",
       "      <td>123</td>\n",
       "      <td>122</td>\n",
       "      <td>120</td>\n",
       "      <td>80</td>\n",
       "      <td>1</td>\n",
       "      <td>False</td>\n",
       "    </tr>\n",
       "    <tr>\n",
       "      <th>4</th>\n",
       "      <td>4</td>\n",
       "      <td>Charmander</td>\n",
       "      <td>Fire</td>\n",
       "      <td>NaN</td>\n",
       "      <td>309</td>\n",
       "      <td>39</td>\n",
       "      <td>52</td>\n",
       "      <td>43</td>\n",
       "      <td>60</td>\n",
       "      <td>50</td>\n",
       "      <td>65</td>\n",
       "      <td>1</td>\n",
       "      <td>False</td>\n",
       "    </tr>\n",
       "  </tbody>\n",
       "</table>\n",
       "</div>"
      ],
      "text/plain": [
       "   #                   Name Type 1  Type 2  Total  HP  Attack  Defense  \\\n",
       "0  1              Bulbasaur  Grass  Poison    318  45      49       49   \n",
       "1  2                Ivysaur  Grass  Poison    405  60      62       63   \n",
       "2  3               Venusaur  Grass  Poison    525  80      82       83   \n",
       "3  3  VenusaurMega Venusaur  Grass  Poison    625  80     100      123   \n",
       "4  4             Charmander   Fire     NaN    309  39      52       43   \n",
       "\n",
       "   Sp. Atk  Sp. Def  Speed  Generation  Legendary  \n",
       "0       65       65     45           1      False  \n",
       "1       80       80     60           1      False  \n",
       "2      100      100     80           1      False  \n",
       "3      122      120     80           1      False  \n",
       "4       60       50     65           1      False  "
      ]
     },
     "execution_count": 39,
     "metadata": {},
     "output_type": "execute_result"
    }
   ],
   "source": [
    "# Import dataset\n",
    "pokemon = pd.read_csv(\"C:\\\\Users\\\\andre\\\\Google Drive\\\\My Drive\\\\Education\\\\IronHack - DS & ML Bootcamp\\\\5. Week 4\\\\Labs\\\\2\\\\lab-hypothesis-testing-en\\\\data\\\\Pokemon.csv\")\n",
    "\n",
    "pokemon.head()"
   ]
  },
  {
   "cell_type": "markdown",
   "metadata": {},
   "source": [
    "#### First we want to define a function with which we can test the means of a feature set of two samples. \n",
    "\n",
    "In the next cell you'll see the annotations of the Python function that explains what this function does and its arguments and returned value. This type of annotation is called **docstring** which is a convention used among Python developers. The docstring convention allows developers to write consistent tech documentations for their codes so that others can read. It also allows some websites to automatically parse the docstrings and display user-friendly documentations.\n",
    "\n",
    "Follow the specifications of the docstring and complete the function."
   ]
  },
  {
   "cell_type": "code",
   "execution_count": 47,
   "metadata": {},
   "outputs": [],
   "source": [
    "from scipy.stats import ttest_ind\n",
    "\n",
    "def t_test_features(s1, s2, features=['HP', 'Attack', 'Defense', 'Sp. Atk', 'Sp. Def', 'Speed', 'Total']):\n",
    "    \"\"\"Test means of a feature set of two samples\n",
    "    \n",
    "    Args:\n",
    "        s1 (dataframe): sample 1\n",
    "        s2 (dataframe): sample 2\n",
    "        features (list): an array of features to test\n",
    "    \n",
    "    Returns:\n",
    "        dict: a dictionary of t-test scores for each feature where the feature name is the key and the p-value is the value\n",
    "    \"\"\"\n",
    "    results = {}\n",
    "\n",
    "    # Your code here\n",
    "    for feature in features:\n",
    "        t_stat, p_value = ttest_ind(s1[feature], s2[feature], equal_var=False)\n",
    "        results[feature] = p_value\n",
    "    return results"
   ]
  },
  {
   "cell_type": "markdown",
   "metadata": {},
   "source": [
    "#### Using the `t_test_features` function, conduct t-test for Lengendary vs non-Legendary pokemons.\n",
    "\n",
    "*Hint: your output should look like below:*\n",
    "\n",
    "```\n",
    "{'HP': 1.0026911708035284e-13,\n",
    " 'Attack': 2.520372449236646e-16,\n",
    " 'Defense': 4.8269984949193316e-11,\n",
    " 'Sp. Atk': 1.5514614112239812e-21,\n",
    " 'Sp. Def': 2.2949327864052826e-15,\n",
    " 'Speed': 1.049016311882451e-18,\n",
    " 'Total': 9.357954335957446e-47}\n",
    " ```"
   ]
  },
  {
   "cell_type": "code",
   "execution_count": 50,
   "metadata": {},
   "outputs": [
    {
     "name": "stdout",
     "output_type": "stream",
     "text": [
      "T-Test Results (P-Values):\n",
      "{'HP': 1.0026911708035284e-13, 'Attack': 2.520372449236646e-16, 'Defense': 4.8269984949193316e-11, 'Sp. Atk': 1.5514614112239812e-21, 'Sp. Def': 2.2949327864052826e-15, 'Speed': 1.049016311882451e-18, 'Total': 9.357954335957446e-47}\n"
     ]
    }
   ],
   "source": [
    "# Your code here\n",
    "legendary = pokemon[pokemon['Legendary'] == True]\n",
    "non_legendary = pokemon[pokemon['Legendary'] == False]\n",
    "\n",
    "results = t_test_features(legendary, non_legendary)\n",
    "\n",
    "print(\"T-Test Results (P-Values):\")\n",
    "print(results)"
   ]
  },
  {
   "cell_type": "markdown",
   "metadata": {},
   "source": [
    "#### From the test results above, what conclusion can you make? Do Legendary and non-Legendary pokemons have significantly different stats on each feature?"
   ]
  },
  {
   "cell_type": "code",
   "execution_count": 52,
   "metadata": {},
   "outputs": [
    {
     "name": "stdout",
     "output_type": "stream",
     "text": [
      "Legendary vs Non-Legendary:\n",
      "{'HP': 1.0026911708035284e-13, 'Attack': 2.520372449236646e-16, 'Defense': 4.8269984949193316e-11, 'Sp. Atk': 1.5514614112239812e-21, 'Sp. Def': 2.2949327864052826e-15, 'Speed': 1.049016311882451e-18, 'Total': 9.357954335957446e-47}\n"
     ]
    }
   ],
   "source": [
    "# Your comment here\n",
    "\n",
    "\"\"\" \n",
    "Since all p-values are less than 0.05, we can conclude that there is a statistically significant \n",
    "difference in each feature (HP, Attack, Defense, Sp. Atk, Sp. Def, Speed, and Total) between Legendary \n",
    "and non-Legendary Pokémon.\n",
    "\"\"\""
   ]
  },
  {
   "cell_type": "markdown",
   "metadata": {},
   "source": [
    "#### Next, conduct t-test for Generation 1 and Generation 2 pokemons."
   ]
  },
  {
   "cell_type": "code",
   "execution_count": 55,
   "metadata": {},
   "outputs": [
    {
     "name": "stdout",
     "output_type": "stream",
     "text": [
      "Generation 1 vs Generation 2:\n",
      "{'HP': 0.14551697834219623, 'Attack': 0.24721958967217725, 'Defense': 0.5677711011725426, 'Sp. Atk': 0.12332165977104388, 'Sp. Def': 0.18829872292645752, 'Speed': 0.00239265937312135, 'Total': 0.5631377907941676}\n"
     ]
    }
   ],
   "source": [
    "# Your code here\n",
    "\n",
    "gen1 = pokemon[pokemon['Generation'] == 1]\n",
    "gen2 = pokemon[pokemon['Generation'] == 2]\n",
    "\n",
    "gen_results = t_test_features(gen1, gen2)\n",
    "\n",
    "print(\"Generation 1 vs Generation 2:\")\n",
    "print(gen_results)"
   ]
  },
  {
   "cell_type": "markdown",
   "metadata": {},
   "source": [
    "#### What conclusions can you make?"
   ]
  },
  {
   "cell_type": "code",
   "execution_count": null,
   "metadata": {},
   "outputs": [],
   "source": [
    "# Your comment here\n",
    "\"\"\"\n",
    "- The only significant difference between Generation 1 and Generation 2 Pokémon is in Speed.\n",
    "- For other features (HP, Attack, Defense, Sp. Atk, Sp. Def, Total), there is no evidence of significant \n",
    "    differences between the two generations.\n",
    "\"\"\""
   ]
  },
  {
   "cell_type": "markdown",
   "metadata": {},
   "source": [
    "#### Compare pokemons who have single type vs those having two types."
   ]
  },
  {
   "cell_type": "code",
   "execution_count": 64,
   "metadata": {},
   "outputs": [
    {
     "name": "stdout",
     "output_type": "stream",
     "text": [
      "Single-Type vs Dual-Type:\n",
      "{'HP': 0.11314389855379413, 'Attack': 0.00014932578145948305, 'Defense': 2.7978540411514693e-08, 'Sp. Atk': 0.00013876216585667907, 'Sp. Def': 0.00010730610934512779, 'Speed': 0.02421703281819093, 'Total': 1.1157056505229961e-07}\n"
     ]
    }
   ],
   "source": [
    "# Your code here\n",
    "single_type = pokemon[pokemon['Type 2'].isna()]\n",
    "dual_type = pokemon[pokemon['Type 2'].notna()]\n",
    "\n",
    "\n",
    "type_results = t_test_features(single_type, dual_type)\n",
    "\n",
    "print(\"Single-Type vs Dual-Type:\")\n",
    "print(type_results)"
   ]
  },
  {
   "cell_type": "markdown",
   "metadata": {},
   "source": [
    "#### What conclusions can you make?"
   ]
  },
  {
   "cell_type": "code",
   "execution_count": null,
   "metadata": {},
   "outputs": [],
   "source": [
    "# Your comment here\n",
    "\"\"\"\n",
    "\n",
    "Significant Differences:\n",
    "    - Single-type and dual-type Pokémon differ significantly in Attack, Defense, Sp. Atk, Sp. Def, Speed, \n",
    "    and Total Stats.\n",
    "No Significant Difference:\n",
    "    - The HP feature does not significantly differ between single-type and dual-type Pokémon.\n",
    "    - These results suggest that while most stats differ based on the number of types, \n",
    "    the average HP remains comparable between single-type and dual-type Pokémon.\n",
    "\n",
    "\"\"\""
   ]
  },
  {
   "cell_type": "markdown",
   "metadata": {},
   "source": [
    "#### Now, we want to compare whether there are significant differences of `Attack` vs `Defense`  and  `Sp. Atk` vs `Sp. Def` of all pokemons. Please write your code below.\n",
    "\n",
    "*Hint: are you comparing different populations or the same population?*"
   ]
  },
  {
   "cell_type": "code",
   "execution_count": 68,
   "metadata": {},
   "outputs": [
    {
     "name": "stdout",
     "output_type": "stream",
     "text": [
      "Attack vs Defense p-value: 1.7140303479358558e-05\n",
      "Sp. Atk vs Sp. Def p-value: 0.3933685997548122\n"
     ]
    }
   ],
   "source": [
    "# Your code here\n",
    "from scipy.stats import ttest_rel\n",
    "\n",
    "attack_defense_pval = ttest_rel(pokemon['Attack'], pokemon['Defense']).pvalue\n",
    "\n",
    "spatk_spdef_pval = ttest_rel(pokemon['Sp. Atk'], pokemon['Sp. Def']).pvalue\n",
    "\n",
    "print(f\"Attack vs Defense p-value: {attack_defense_pval}\")\n",
    "print(f\"Sp. Atk vs Sp. Def p-value: {spatk_spdef_pval}\")"
   ]
  },
  {
   "cell_type": "markdown",
   "metadata": {},
   "source": [
    "#### What conclusions can you make?"
   ]
  },
  {
   "cell_type": "code",
   "execution_count": null,
   "metadata": {},
   "outputs": [],
   "source": [
    "# Your comment here\n",
    "\"\"\"\n",
    "\n",
    "Attack vs. Defense:\n",
    "    - p-value: very small and < 0.05\n",
    "    - There is a statistically significant difference between Attack and Defense stats across all Pokémon.\n",
    "    - This means the average Attack and Defense stats are likely not equal.\n",
    "\n",
    "Sp. Atk vs. Sp. Def:\n",
    "    - p-value: greater than 0.05\n",
    "    - There is no statistically significant difference between Sp. Atk and Sp. Def stats across all Pokémon.\n",
    "    - This means the average Sp. Atk and Sp. Def stats are likely comparable.\n",
    "\n",
    "\n",
    "- Attack vs. Defense: Pokémon tend to have differing Attack and Defense stats.\n",
    "- Sp. Atk vs. Sp. Def: Pokémon tend to have similar Sp. Atk and Sp. Def stats.\n",
    "\n",
    "\"\"\""
   ]
  }
 ],
 "metadata": {
  "kernelspec": {
   "display_name": "Python [conda env:base] *",
   "language": "python",
   "name": "conda-base-py"
  },
  "language_info": {
   "codemirror_mode": {
    "name": "ipython",
    "version": 3
   },
   "file_extension": ".py",
   "mimetype": "text/x-python",
   "name": "python",
   "nbconvert_exporter": "python",
   "pygments_lexer": "ipython3",
   "version": "3.12.7"
  }
 },
 "nbformat": 4,
 "nbformat_minor": 4
}
