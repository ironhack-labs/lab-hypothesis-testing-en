{
 "cells": [
  {
   "cell_type": "markdown",
   "metadata": {},
   "source": [
    "# Challenge 1 - T-test\n",
    "\n",
    "In statistics, t-test is used to test if two data samples have a significant difference between their means. There are two types of t-test:\n",
    "\n",
    "* **Student's t-test** (a.k.a. independent or uncorrelated t-test). This type of t-test is to compare the samples of **two independent populations** (e.g. test scores of students in two different classes). `scipy` provides the [`ttest_ind`](https://docs.scipy.org/doc/scipy-0.15.1/reference/generated/scipy.stats.ttest_ind.html) method to conduct student's t-test.\n",
    "\n",
    "* **Paired t-test** (a.k.a. dependent or correlated t-test). This type of t-test is to compare the samples of **the same population** (e.g. scores of different tests of students in the same class). `scipy` provides the [`ttest_re`](https://docs.scipy.org/doc/scipy-0.15.1/reference/generated/scipy.stats.ttest_rel.html) method to conduct paired t-test.\n",
    "\n",
    "Both types of t-tests return a number which is called the **p-value**. If p-value is below 0.05, we can confidently declare the null-hypothesis is rejected and the difference is significant. If p-value is between 0.05 and 0.1, we may also declare the null-hypothesis is rejected but we are not highly confident. If p-value is above 0.1 we do not reject the null-hypothesis.\n",
    "\n",
    "Read more about the t-test in [this article](https://researchbasics.education.uconn.edu/t-test/) and [this Quora](https://www.quora.com/What-is-the-difference-between-a-paired-and-unpaired-t-test). Make sure you understand when to use which type of t-test. "
   ]
  },
  {
   "cell_type": "code",
   "execution_count": 27,
   "metadata": {},
   "outputs": [],
   "source": [
    "# Import libraries\n",
    "\n",
    "import pandas as pd\n",
    "import numpy as np\n",
    "from scipy.stats import ttest_rel\n"
   ]
  },
  {
   "cell_type": "markdown",
   "metadata": {},
   "source": [
    "#### Import dataset\n",
    "\n",
    "In this challenge we will work on the Pokemon dataset you have used last week. The goal is to test whether different groups of pokemon (e.g. Legendary vs Normal, Generation 1 vs 2, single-type vs dual-type) have different stats (e.g. HP, Attack, Defense, etc.)."
   ]
  },
  {
   "cell_type": "code",
   "execution_count": 28,
   "metadata": {},
   "outputs": [
    {
     "data": {
      "text/html": [
       "<div>\n",
       "<style scoped>\n",
       "    .dataframe tbody tr th:only-of-type {\n",
       "        vertical-align: middle;\n",
       "    }\n",
       "\n",
       "    .dataframe tbody tr th {\n",
       "        vertical-align: top;\n",
       "    }\n",
       "\n",
       "    .dataframe thead th {\n",
       "        text-align: right;\n",
       "    }\n",
       "</style>\n",
       "<table border=\"1\" class=\"dataframe\">\n",
       "  <thead>\n",
       "    <tr style=\"text-align: right;\">\n",
       "      <th></th>\n",
       "      <th>#</th>\n",
       "      <th>Name</th>\n",
       "      <th>Type 1</th>\n",
       "      <th>Type 2</th>\n",
       "      <th>Total</th>\n",
       "      <th>HP</th>\n",
       "      <th>Attack</th>\n",
       "      <th>Defense</th>\n",
       "      <th>Sp. Atk</th>\n",
       "      <th>Sp. Def</th>\n",
       "      <th>Speed</th>\n",
       "      <th>Generation</th>\n",
       "      <th>Legendary</th>\n",
       "    </tr>\n",
       "  </thead>\n",
       "  <tbody>\n",
       "    <tr>\n",
       "      <th>344</th>\n",
       "      <td>315</td>\n",
       "      <td>Roselia</td>\n",
       "      <td>Grass</td>\n",
       "      <td>Poison</td>\n",
       "      <td>400</td>\n",
       "      <td>50</td>\n",
       "      <td>60</td>\n",
       "      <td>45</td>\n",
       "      <td>100</td>\n",
       "      <td>80</td>\n",
       "      <td>65</td>\n",
       "      <td>3</td>\n",
       "      <td>False</td>\n",
       "    </tr>\n",
       "    <tr>\n",
       "      <th>467</th>\n",
       "      <td>420</td>\n",
       "      <td>Cherubi</td>\n",
       "      <td>Grass</td>\n",
       "      <td>NaN</td>\n",
       "      <td>275</td>\n",
       "      <td>45</td>\n",
       "      <td>35</td>\n",
       "      <td>45</td>\n",
       "      <td>62</td>\n",
       "      <td>53</td>\n",
       "      <td>35</td>\n",
       "      <td>4</td>\n",
       "      <td>False</td>\n",
       "    </tr>\n",
       "    <tr>\n",
       "      <th>228</th>\n",
       "      <td>212</td>\n",
       "      <td>Scizor</td>\n",
       "      <td>Bug</td>\n",
       "      <td>Steel</td>\n",
       "      <td>500</td>\n",
       "      <td>70</td>\n",
       "      <td>130</td>\n",
       "      <td>100</td>\n",
       "      <td>55</td>\n",
       "      <td>80</td>\n",
       "      <td>65</td>\n",
       "      <td>2</td>\n",
       "      <td>False</td>\n",
       "    </tr>\n",
       "    <tr>\n",
       "      <th>136</th>\n",
       "      <td>127</td>\n",
       "      <td>Pinsir</td>\n",
       "      <td>Bug</td>\n",
       "      <td>NaN</td>\n",
       "      <td>500</td>\n",
       "      <td>65</td>\n",
       "      <td>125</td>\n",
       "      <td>100</td>\n",
       "      <td>55</td>\n",
       "      <td>70</td>\n",
       "      <td>85</td>\n",
       "      <td>1</td>\n",
       "      <td>False</td>\n",
       "    </tr>\n",
       "    <tr>\n",
       "      <th>131</th>\n",
       "      <td>122</td>\n",
       "      <td>Mr. Mime</td>\n",
       "      <td>Psychic</td>\n",
       "      <td>Fairy</td>\n",
       "      <td>460</td>\n",
       "      <td>40</td>\n",
       "      <td>45</td>\n",
       "      <td>65</td>\n",
       "      <td>100</td>\n",
       "      <td>120</td>\n",
       "      <td>90</td>\n",
       "      <td>1</td>\n",
       "      <td>False</td>\n",
       "    </tr>\n",
       "    <tr>\n",
       "      <th>...</th>\n",
       "      <td>...</td>\n",
       "      <td>...</td>\n",
       "      <td>...</td>\n",
       "      <td>...</td>\n",
       "      <td>...</td>\n",
       "      <td>...</td>\n",
       "      <td>...</td>\n",
       "      <td>...</td>\n",
       "      <td>...</td>\n",
       "      <td>...</td>\n",
       "      <td>...</td>\n",
       "      <td>...</td>\n",
       "      <td>...</td>\n",
       "    </tr>\n",
       "    <tr>\n",
       "      <th>195</th>\n",
       "      <td>181</td>\n",
       "      <td>Ampharos</td>\n",
       "      <td>Electric</td>\n",
       "      <td>NaN</td>\n",
       "      <td>510</td>\n",
       "      <td>90</td>\n",
       "      <td>75</td>\n",
       "      <td>85</td>\n",
       "      <td>115</td>\n",
       "      <td>90</td>\n",
       "      <td>55</td>\n",
       "      <td>2</td>\n",
       "      <td>False</td>\n",
       "    </tr>\n",
       "    <tr>\n",
       "      <th>280</th>\n",
       "      <td>258</td>\n",
       "      <td>Mudkip</td>\n",
       "      <td>Water</td>\n",
       "      <td>NaN</td>\n",
       "      <td>310</td>\n",
       "      <td>50</td>\n",
       "      <td>70</td>\n",
       "      <td>50</td>\n",
       "      <td>50</td>\n",
       "      <td>50</td>\n",
       "      <td>40</td>\n",
       "      <td>3</td>\n",
       "      <td>False</td>\n",
       "    </tr>\n",
       "    <tr>\n",
       "      <th>533</th>\n",
       "      <td>479</td>\n",
       "      <td>RotomWash Rotom</td>\n",
       "      <td>Electric</td>\n",
       "      <td>Water</td>\n",
       "      <td>520</td>\n",
       "      <td>50</td>\n",
       "      <td>65</td>\n",
       "      <td>107</td>\n",
       "      <td>105</td>\n",
       "      <td>107</td>\n",
       "      <td>86</td>\n",
       "      <td>4</td>\n",
       "      <td>False</td>\n",
       "    </tr>\n",
       "    <tr>\n",
       "      <th>677</th>\n",
       "      <td>616</td>\n",
       "      <td>Shelmet</td>\n",
       "      <td>Bug</td>\n",
       "      <td>NaN</td>\n",
       "      <td>305</td>\n",
       "      <td>50</td>\n",
       "      <td>40</td>\n",
       "      <td>85</td>\n",
       "      <td>40</td>\n",
       "      <td>65</td>\n",
       "      <td>25</td>\n",
       "      <td>5</td>\n",
       "      <td>False</td>\n",
       "    </tr>\n",
       "    <tr>\n",
       "      <th>110</th>\n",
       "      <td>102</td>\n",
       "      <td>Exeggcute</td>\n",
       "      <td>Grass</td>\n",
       "      <td>Psychic</td>\n",
       "      <td>325</td>\n",
       "      <td>60</td>\n",
       "      <td>40</td>\n",
       "      <td>80</td>\n",
       "      <td>60</td>\n",
       "      <td>45</td>\n",
       "      <td>40</td>\n",
       "      <td>1</td>\n",
       "      <td>False</td>\n",
       "    </tr>\n",
       "  </tbody>\n",
       "</table>\n",
       "<p>100 rows × 13 columns</p>\n",
       "</div>"
      ],
      "text/plain": [
       "       #             Name    Type 1   Type 2  Total  HP  Attack  Defense  \\\n",
       "344  315          Roselia     Grass   Poison    400  50      60       45   \n",
       "467  420          Cherubi     Grass      NaN    275  45      35       45   \n",
       "228  212           Scizor       Bug    Steel    500  70     130      100   \n",
       "136  127           Pinsir       Bug      NaN    500  65     125      100   \n",
       "131  122         Mr. Mime   Psychic    Fairy    460  40      45       65   \n",
       "..   ...              ...       ...      ...    ...  ..     ...      ...   \n",
       "195  181         Ampharos  Electric      NaN    510  90      75       85   \n",
       "280  258           Mudkip     Water      NaN    310  50      70       50   \n",
       "533  479  RotomWash Rotom  Electric    Water    520  50      65      107   \n",
       "677  616          Shelmet       Bug      NaN    305  50      40       85   \n",
       "110  102        Exeggcute     Grass  Psychic    325  60      40       80   \n",
       "\n",
       "     Sp. Atk  Sp. Def  Speed  Generation  Legendary  \n",
       "344      100       80     65           3      False  \n",
       "467       62       53     35           4      False  \n",
       "228       55       80     65           2      False  \n",
       "136       55       70     85           1      False  \n",
       "131      100      120     90           1      False  \n",
       "..       ...      ...    ...         ...        ...  \n",
       "195      115       90     55           2      False  \n",
       "280       50       50     40           3      False  \n",
       "533      105      107     86           4      False  \n",
       "677       40       65     25           5      False  \n",
       "110       60       45     40           1      False  \n",
       "\n",
       "[100 rows x 13 columns]"
      ]
     },
     "execution_count": 28,
     "metadata": {},
     "output_type": "execute_result"
    }
   ],
   "source": [
    "# Import dataset\n",
    "\n",
    "pokemon = pd.read_csv('../data/Pokemon.csv')\n",
    "\n",
    "pokemon.sample(100)"
   ]
  },
  {
   "cell_type": "markdown",
   "metadata": {},
   "source": [
    "#### First we want to define a function with which we can test the means of a feature set of two samples. \n",
    "\n",
    "In the next cell you'll see the annotations of the Python function that explains what this function does and its arguments and returned value. This type of annotation is called **docstring** which is a convention used among Python developers. The docstring convention allows developers to write consistent tech documentations for their codes so that others can read. It also allows some websites to automatically parse the docstrings and display user-friendly documentations.\n",
    "\n",
    "Follow the specifications of the docstring and complete the function."
   ]
  },
  {
   "cell_type": "code",
   "execution_count": 29,
   "metadata": {},
   "outputs": [],
   "source": [
    "def t_test_features(s1, s2, features=['HP', 'Attack', 'Defense', 'Sp. Atk', 'Sp. Def', 'Speed', 'Total']):\n",
    "    \"\"\"Test means of a feature set of two samples\n",
    "    \n",
    "    Args:\n",
    "        s1 (dataframe): sample 1\n",
    "        s2 (dataframe): sample 2\n",
    "        features (list): an array of features to test\n",
    "    \n",
    "    Returns:\n",
    "        dict: a dictionary of t-test scores for each feature where the feature name is the key and the p-value is the value\n",
    "    \"\"\"\n",
    "    results = {}\n",
    "    \n",
    "    for feature in features:\n",
    "        t_stat, p_value = ttest_rel(s1[feature], s2[feature])  # Perform the paired t-test\n",
    "        results[feature] = p_value  # Store the p-value in the results dictionary\n",
    "            \n",
    "    return results\n"
   ]
  },
  {
   "cell_type": "markdown",
   "metadata": {},
   "source": [
    "#### Using the `t_test_features` function, conduct t-test for Lengendary vs non-Legendary pokemons.\n",
    "\n",
    "*Hint: your output should look like below:*\n",
    "\n",
    "```\n",
    "{'HP': 1.0026911708035284e-13,\n",
    " 'Attack': 2.520372449236646e-16,\n",
    " 'Defense': 4.8269984949193316e-11,\n",
    " 'Sp. Atk': 1.5514614112239812e-21,\n",
    " 'Sp. Def': 2.2949327864052826e-15,\n",
    " 'Speed': 1.049016311882451e-18,\n",
    " 'Total': 9.357954335957446e-47}\n",
    " ```"
   ]
  },
  {
   "cell_type": "code",
   "execution_count": 30,
   "metadata": {},
   "outputs": [
    {
     "data": {
      "text/plain": [
       "{'HP': 9.297195286689402e-08,\n",
       " 'Attack': 5.982860348887163e-08,\n",
       " 'Defense': 3.60597965447722e-08,\n",
       " 'Sp. Atk': 6.237586010195864e-11,\n",
       " 'Sp. Def': 1.6708157430878753e-10,\n",
       " 'Speed': 3.2107448867105005e-09,\n",
       " 'Total': 6.417529654122886e-19}"
      ]
     },
     "execution_count": 30,
     "metadata": {},
     "output_type": "execute_result"
    }
   ],
   "source": [
    "# Divide the dataset into Legendary and non-legendary pokemos and define two samples with equal length\n",
    "s1 = pokemon[pokemon['Legendary'] == True].sample(50) # Legendary pokemons\n",
    "\n",
    "s2 = pokemon[pokemon['Legendary'] == False].sample(50) # non-legendary pokemons\n",
    "\n",
    "t_test_features(s1, s2)"
   ]
  },
  {
   "cell_type": "markdown",
   "metadata": {},
   "source": [
    "#### From the test results above, what conclusion can you make? Do Legendary and non-Legendary pokemons have significantly different stats on each feature?"
   ]
  },
  {
   "cell_type": "code",
   "execution_count": null,
   "metadata": {},
   "outputs": [],
   "source": [
    "# H(0) Both samples have similar stats, H(1) both samples have different stats\n",
    "# all the p_values are smaller than 0.05, so we can reject the null hypothesis and state that Legendary and non-legendary pokemons have significantly different stats"
   ]
  },
  {
   "cell_type": "markdown",
   "metadata": {},
   "source": [
    "#### Next, conduct t-test for Generation 1 and Generation 2 pokemons."
   ]
  },
  {
   "cell_type": "code",
   "execution_count": 32,
   "metadata": {},
   "outputs": [
    {
     "data": {
      "text/plain": [
       "{'HP': 0.5302111664802818,\n",
       " 'Attack': 0.4306168866664217,\n",
       " 'Defense': 0.7012563515947108,\n",
       " 'Sp. Atk': 0.40669500228261024,\n",
       " 'Sp. Def': 0.09795822577000138,\n",
       " 'Speed': 0.129595433459746,\n",
       " 'Total': 0.8557986386381492}"
      ]
     },
     "execution_count": 32,
     "metadata": {},
     "output_type": "execute_result"
    }
   ],
   "source": [
    "# Divide the dataset into Generation 1 and Generation 2 pokemons and define two samples with equal length\n",
    "s1 = pokemon[pokemon['Generation'] == 1].sample(50) # Generation 1 pokemons\n",
    "s2 = pokemon[pokemon['Generation'] == 2].sample(50) # Generation 2 pokemons\n",
    "\n",
    "t_test_features(s1, s2)"
   ]
  },
  {
   "cell_type": "markdown",
   "metadata": {},
   "source": [
    "#### What conclusions can you make?"
   ]
  },
  {
   "cell_type": "code",
   "execution_count": null,
   "metadata": {},
   "outputs": [],
   "source": [
    "# H(0) Both samples have similar stats, H(1) both samples have different stats\n",
    "# all the p_values are larger than 0.05, so we can't reject the null hypothesis and state that Generation 1 and Generation pokemons have similar stats"
   ]
  },
  {
   "cell_type": "markdown",
   "metadata": {},
   "source": [
    "#### Compare pokemons who have single type vs those having two types."
   ]
  },
  {
   "cell_type": "code",
   "execution_count": 33,
   "metadata": {},
   "outputs": [
    {
     "data": {
      "text/plain": [
       "{'HP': 0.0160202665367445,\n",
       " 'Attack': 0.009835508920753072,\n",
       " 'Defense': 0.0017074973674141168,\n",
       " 'Sp. Atk': 0.07231933978555113,\n",
       " 'Sp. Def': 0.07040180206861213,\n",
       " 'Speed': 0.5680424974801497,\n",
       " 'Total': 0.0027178207003453483}"
      ]
     },
     "execution_count": 33,
     "metadata": {},
     "output_type": "execute_result"
    }
   ],
   "source": [
    "# Divide the dataset into pokemons with 1 type and pokemons with 2 types and define two samples with equal length\n",
    "s1 = pokemon[pokemon['Type 2'].isna() == True].sample(50) # Pokemons with only 1 type\n",
    "s2 = pokemon[pokemon['Type 2'].isna() == False].sample(50) # Pokemons with 2 types\n",
    "\n",
    "t_test_features(s1, s2)"
   ]
  },
  {
   "cell_type": "markdown",
   "metadata": {},
   "source": [
    "#### What conclusions can you make?"
   ]
  },
  {
   "cell_type": "code",
   "execution_count": null,
   "metadata": {},
   "outputs": [],
   "source": [
    "# H(0) Both samples have similar stats, H(1) both samples have different stats\n",
    "# p_values are smaller than 0.05 in some cases (e.g.: 'HP', 'Attack', 'Defense', 'Total'). However, p_values are larger than 0.05 in other features. So, we can't reject the null hypothesis."
   ]
  },
  {
   "cell_type": "markdown",
   "metadata": {},
   "source": [
    "#### Now, we want to compare whether there are significant differences of `Attack` vs `Defense`  and  `Sp. Atk` vs `Sp. Def` of all pokemons. Please write your code below.\n",
    "\n",
    "*Hint: are you comparing different populations or the same population?*"
   ]
  },
  {
   "cell_type": "code",
   "execution_count": null,
   "metadata": {},
   "outputs": [],
   "source": []
  },
  {
   "cell_type": "markdown",
   "metadata": {},
   "source": [
    "#### What conclusions can you make?"
   ]
  },
  {
   "cell_type": "code",
   "execution_count": null,
   "metadata": {},
   "outputs": [],
   "source": [
    "# Your comment here"
   ]
  }
 ],
 "metadata": {
  "kernelspec": {
   "display_name": "Python 3 (ipykernel)",
   "language": "python",
   "name": "python3"
  },
  "language_info": {
   "codemirror_mode": {
    "name": "ipython",
    "version": 3
   },
   "file_extension": ".py",
   "mimetype": "text/x-python",
   "name": "python",
   "nbconvert_exporter": "python",
   "pygments_lexer": "ipython3",
   "version": "3.12.4"
  }
 },
 "nbformat": 4,
 "nbformat_minor": 2
}
