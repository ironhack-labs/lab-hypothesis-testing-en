{
 "cells": [
  {
   "cell_type": "markdown",
   "metadata": {},
   "source": [
    "# Challenge 1 - T-test\n",
    "\n",
    "In statistics, t-test is used to test if two data samples have a significant difference between their means. There are two types of t-test:\n",
    "\n",
    "* **Student's t-test** (a.k.a. independent or uncorrelated t-test). This type of t-test is to compare the samples of **two independent populations** (e.g. test scores of students in two different classes). `scipy` provides the [`ttest_ind`](https://docs.scipy.org/doc/scipy-0.15.1/reference/generated/scipy.stats.ttest_ind.html) method to conduct student's t-test.\n",
    "\n",
    "* **Paired t-test** (a.k.a. dependent or correlated t-test). This type of t-test is to compare the samples of **the same population** (e.g. scores of different tests of students in the same class). `scipy` provides the [`ttest_re`](https://docs.scipy.org/doc/scipy-0.15.1/reference/generated/scipy.stats.ttest_rel.html) method to conduct paired t-test.\n",
    "\n",
    "Both types of t-tests return a number which is called the **p-value**. If p-value is below 0.05, we can confidently declare the null-hypothesis is rejected and the difference is significant. If p-value is between 0.05 and 0.1, we may also declare the null-hypothesis is rejected but we are not highly confident. If p-value is above 0.1 we do not reject the null-hypothesis.\n",
    "\n",
    "Read more about the t-test in [this article](https://researchbasics.education.uconn.edu/t-test/) and [this Quora](https://www.quora.com/What-is-the-difference-between-a-paired-and-unpaired-t-test). Make sure you understand when to use which type of t-test. "
   ]
  },
  {
   "cell_type": "code",
   "execution_count": 1,
   "metadata": {},
   "outputs": [],
   "source": [
    "# Import libraries\n",
    "\n",
    "import pandas as pd"
   ]
  },
  {
   "cell_type": "markdown",
   "metadata": {},
   "source": [
    "#### Import dataset\n",
    "\n",
    "In this challenge we will work on the Pokemon dataset you have used last week. The goal is to test whether different groups of pokemon (e.g. Legendary vs Normal, Generation 1 vs 2, single-type vs dual-type) have different stats (e.g. HP, Attack, Defense, etc.)."
   ]
  },
  {
   "cell_type": "code",
   "execution_count": 4,
   "metadata": {},
   "outputs": [
    {
     "data": {
      "text/html": [
       "<div>\n",
       "<style scoped>\n",
       "    .dataframe tbody tr th:only-of-type {\n",
       "        vertical-align: middle;\n",
       "    }\n",
       "\n",
       "    .dataframe tbody tr th {\n",
       "        vertical-align: top;\n",
       "    }\n",
       "\n",
       "    .dataframe thead th {\n",
       "        text-align: right;\n",
       "    }\n",
       "</style>\n",
       "<table border=\"1\" class=\"dataframe\">\n",
       "  <thead>\n",
       "    <tr style=\"text-align: right;\">\n",
       "      <th></th>\n",
       "      <th>#</th>\n",
       "      <th>Name</th>\n",
       "      <th>Type 1</th>\n",
       "      <th>Type 2</th>\n",
       "      <th>Total</th>\n",
       "      <th>HP</th>\n",
       "      <th>Attack</th>\n",
       "      <th>Defense</th>\n",
       "      <th>Sp. Atk</th>\n",
       "      <th>Sp. Def</th>\n",
       "      <th>Speed</th>\n",
       "      <th>Generation</th>\n",
       "      <th>Legendary</th>\n",
       "    </tr>\n",
       "  </thead>\n",
       "  <tbody>\n",
       "    <tr>\n",
       "      <th>0</th>\n",
       "      <td>1</td>\n",
       "      <td>Bulbasaur</td>\n",
       "      <td>Grass</td>\n",
       "      <td>Poison</td>\n",
       "      <td>318</td>\n",
       "      <td>45</td>\n",
       "      <td>49</td>\n",
       "      <td>49</td>\n",
       "      <td>65</td>\n",
       "      <td>65</td>\n",
       "      <td>45</td>\n",
       "      <td>1</td>\n",
       "      <td>False</td>\n",
       "    </tr>\n",
       "    <tr>\n",
       "      <th>1</th>\n",
       "      <td>2</td>\n",
       "      <td>Ivysaur</td>\n",
       "      <td>Grass</td>\n",
       "      <td>Poison</td>\n",
       "      <td>405</td>\n",
       "      <td>60</td>\n",
       "      <td>62</td>\n",
       "      <td>63</td>\n",
       "      <td>80</td>\n",
       "      <td>80</td>\n",
       "      <td>60</td>\n",
       "      <td>1</td>\n",
       "      <td>False</td>\n",
       "    </tr>\n",
       "    <tr>\n",
       "      <th>2</th>\n",
       "      <td>3</td>\n",
       "      <td>Venusaur</td>\n",
       "      <td>Grass</td>\n",
       "      <td>Poison</td>\n",
       "      <td>525</td>\n",
       "      <td>80</td>\n",
       "      <td>82</td>\n",
       "      <td>83</td>\n",
       "      <td>100</td>\n",
       "      <td>100</td>\n",
       "      <td>80</td>\n",
       "      <td>1</td>\n",
       "      <td>False</td>\n",
       "    </tr>\n",
       "    <tr>\n",
       "      <th>3</th>\n",
       "      <td>3</td>\n",
       "      <td>VenusaurMega Venusaur</td>\n",
       "      <td>Grass</td>\n",
       "      <td>Poison</td>\n",
       "      <td>625</td>\n",
       "      <td>80</td>\n",
       "      <td>100</td>\n",
       "      <td>123</td>\n",
       "      <td>122</td>\n",
       "      <td>120</td>\n",
       "      <td>80</td>\n",
       "      <td>1</td>\n",
       "      <td>False</td>\n",
       "    </tr>\n",
       "    <tr>\n",
       "      <th>4</th>\n",
       "      <td>4</td>\n",
       "      <td>Charmander</td>\n",
       "      <td>Fire</td>\n",
       "      <td>NaN</td>\n",
       "      <td>309</td>\n",
       "      <td>39</td>\n",
       "      <td>52</td>\n",
       "      <td>43</td>\n",
       "      <td>60</td>\n",
       "      <td>50</td>\n",
       "      <td>65</td>\n",
       "      <td>1</td>\n",
       "      <td>False</td>\n",
       "    </tr>\n",
       "  </tbody>\n",
       "</table>\n",
       "</div>"
      ],
      "text/plain": [
       "   #                   Name Type 1  Type 2  Total  HP  Attack  Defense  \\\n",
       "0  1              Bulbasaur  Grass  Poison    318  45      49       49   \n",
       "1  2                Ivysaur  Grass  Poison    405  60      62       63   \n",
       "2  3               Venusaur  Grass  Poison    525  80      82       83   \n",
       "3  3  VenusaurMega Venusaur  Grass  Poison    625  80     100      123   \n",
       "4  4             Charmander   Fire     NaN    309  39      52       43   \n",
       "\n",
       "   Sp. Atk  Sp. Def  Speed  Generation  Legendary  \n",
       "0       65       65     45           1      False  \n",
       "1       80       80     60           1      False  \n",
       "2      100      100     80           1      False  \n",
       "3      122      120     80           1      False  \n",
       "4       60       50     65           1      False  "
      ]
     },
     "execution_count": 4,
     "metadata": {},
     "output_type": "execute_result"
    }
   ],
   "source": [
    "# Import dataset\n",
    "\n",
    "pokemon = pd.read_csv('../data/Pokemon.csv')\n",
    "\n",
    "pokemon.head()"
   ]
  },
  {
   "cell_type": "markdown",
   "metadata": {},
   "source": [
    "#### First we want to define a function with which we can test the means of a feature set of two samples. \n",
    "\n",
    "In the next cell you'll see the annotations of the Python function that explains what this function does and its arguments and returned value. This type of annotation is called **docstring** which is a convention used among Python developers. The docstring convention allows developers to write consistent tech documentations for their codes so that others can read. It also allows some websites to automatically parse the docstrings and display user-friendly documentations.\n",
    "\n",
    "Follow the specifications of the docstring and complete the function."
   ]
  },
  {
   "cell_type": "code",
   "execution_count": 6,
   "metadata": {},
   "outputs": [],
   "source": [
    "\n",
    "from scipy.stats import ttest_ind\n",
    "\n",
    "def t_test_features(s1, s2, features=['HP', 'Attack', 'Defense', 'Sp. Atk', 'Sp. Def', 'Speed', 'Total']):\n",
    "    \"\"\"Test means of a feature set of two samples\n",
    "    \n",
    "    Args:\n",
    "        s1 (dataframe): sample 1\n",
    "        s2 (dataframe): sample 2\n",
    "        features (list): an array of features to test\n",
    "    \n",
    "    Returns:\n",
    "        dict: a dictionary of t-test scores for each feature where the feature name is the key and the p-value is the value\n",
    "    \"\"\"\n",
    "    p_values = {}\n",
    "    \n",
    "    for feature in features:\n",
    "        # Perform the independent t-test on the current feature\n",
    "        t_stat, p_value = ttest_ind(s1[feature], s2[feature], equal_var=False)  # Assuming unequal variance\n",
    "        # Store the p-value in the dictionary\n",
    "        p_values[feature] = p_value\n",
    "    \n",
    "    return p_values"
   ]
  },
  {
   "cell_type": "markdown",
   "metadata": {},
   "source": [
    "#### Using the `t_test_features` function, conduct t-test for Lengendary vs non-Legendary pokemons.\n",
    "\n",
    "*Hint: your output should look like below:*\n",
    "\n",
    "```\n",
    "{'HP': 1.0026911708035284e-13,\n",
    " 'Attack': 2.520372449236646e-16,\n",
    " 'Defense': 4.8269984949193316e-11,\n",
    " 'Sp. Atk': 1.5514614112239812e-21,\n",
    " 'Sp. Def': 2.2949327864052826e-15,\n",
    " 'Speed': 1.049016311882451e-18,\n",
    " 'Total': 9.357954335957446e-47}\n",
    " ```"
   ]
  },
  {
   "cell_type": "code",
   "execution_count": 14,
   "metadata": {},
   "outputs": [
    {
     "name": "stdout",
     "output_type": "stream",
     "text": [
      "       #                   Name  Type 1  Type 2  Total  HP  Attack  Defense  \\\n",
      "0      1              Bulbasaur   Grass  Poison    318  45      49       49   \n",
      "1      2                Ivysaur   Grass  Poison    405  60      62       63   \n",
      "2      3               Venusaur   Grass  Poison    525  80      82       83   \n",
      "3      3  VenusaurMega Venusaur   Grass  Poison    625  80     100      123   \n",
      "4      4             Charmander    Fire     NaN    309  39      52       43   \n",
      "..   ...                    ...     ...     ...    ...  ..     ...      ...   \n",
      "787  711    GourgeistSuper Size   Ghost   Grass    494  85     100      122   \n",
      "788  712               Bergmite     Ice     NaN    304  55      69       85   \n",
      "789  713                Avalugg     Ice     NaN    514  95     117      184   \n",
      "790  714                 Noibat  Flying  Dragon    245  40      30       35   \n",
      "791  715                Noivern  Flying  Dragon    535  85      70       80   \n",
      "\n",
      "     Sp. Atk  Sp. Def  Speed  Generation  Legendary  \n",
      "0         65       65     45           1      False  \n",
      "1         80       80     60           1      False  \n",
      "2        100      100     80           1      False  \n",
      "3        122      120     80           1      False  \n",
      "4         60       50     65           1      False  \n",
      "..       ...      ...    ...         ...        ...  \n",
      "787       58       75     54           6      False  \n",
      "788       32       35     28           6      False  \n",
      "789       44       46     28           6      False  \n",
      "790       45       40     55           6      False  \n",
      "791       97       80    123           6      False  \n",
      "\n",
      "[735 rows x 13 columns]\n",
      "       #                 Name    Type 1    Type 2  Total   HP  Attack  \\\n",
      "156  144             Articuno       Ice    Flying    580   90      85   \n",
      "157  145               Zapdos  Electric    Flying    580   90      90   \n",
      "158  146              Moltres      Fire    Flying    580   90     100   \n",
      "162  150               Mewtwo   Psychic       NaN    680  106     110   \n",
      "163  150  MewtwoMega Mewtwo X   Psychic  Fighting    780  106     190   \n",
      "..   ...                  ...       ...       ...    ...  ...     ...   \n",
      "795  719              Diancie      Rock     Fairy    600   50     100   \n",
      "796  719  DiancieMega Diancie      Rock     Fairy    700   50     160   \n",
      "797  720  HoopaHoopa Confined   Psychic     Ghost    600   80     110   \n",
      "798  720   HoopaHoopa Unbound   Psychic      Dark    680   80     160   \n",
      "799  721            Volcanion      Fire     Water    600   80     110   \n",
      "\n",
      "     Defense  Sp. Atk  Sp. Def  Speed  Generation  Legendary  \n",
      "156      100       95      125     85           1       True  \n",
      "157       85      125       90    100           1       True  \n",
      "158       90      125       85     90           1       True  \n",
      "162       90      154       90    130           1       True  \n",
      "163      100      154      100    130           1       True  \n",
      "..       ...      ...      ...    ...         ...        ...  \n",
      "795      150      100      150     50           6       True  \n",
      "796      110      160      110    110           6       True  \n",
      "797       60      150      130     70           6       True  \n",
      "798       60      170      130     80           6       True  \n",
      "799      120      130       90     70           6       True  \n",
      "\n",
      "[65 rows x 13 columns]\n"
     ]
    }
   ],
   "source": [
    "# Your code here\n",
    "s1 = pokemon[pokemon[\"Legendary\"] == False]\n",
    "print(s1)\n",
    "\n",
    "s2 = pokemon[pokemon[\"Legendary\"]== True]\n",
    "print(s2)"
   ]
  },
  {
   "cell_type": "code",
   "execution_count": 15,
   "metadata": {},
   "outputs": [
    {
     "data": {
      "text/plain": [
       "{'HP': np.float64(1.0026911708035284e-13),\n",
       " 'Attack': np.float64(2.520372449236646e-16),\n",
       " 'Defense': np.float64(4.826998494919331e-11),\n",
       " 'Sp. Atk': np.float64(1.5514614112239816e-21),\n",
       " 'Sp. Def': np.float64(2.2949327864052826e-15),\n",
       " 'Speed': np.float64(1.0490163118824507e-18),\n",
       " 'Total': np.float64(9.357954335957444e-47)}"
      ]
     },
     "execution_count": 15,
     "metadata": {},
     "output_type": "execute_result"
    }
   ],
   "source": [
    "t_test_features(s1, s2, features=['HP', 'Attack', 'Defense', 'Sp. Atk', 'Sp. Def', 'Speed', 'Total'])"
   ]
  },
  {
   "cell_type": "markdown",
   "metadata": {},
   "source": [
    "#### From the test results above, what conclusion can you make? Do Legendary and non-Legendary pokemons have significantly different stats on each feature?"
   ]
  },
  {
   "cell_type": "code",
   "execution_count": null,
   "metadata": {},
   "outputs": [],
   "source": [
    "# Your comment here\n",
    "\n",
    "#Yes, they have significantly different stats since the p-values are very low and we can discard the H0 hypothesis"
   ]
  },
  {
   "cell_type": "markdown",
   "metadata": {},
   "source": [
    "#### Next, conduct t-test for Generation 1 and Generation 2 pokemons."
   ]
  },
  {
   "cell_type": "code",
   "execution_count": 18,
   "metadata": {},
   "outputs": [
    {
     "name": "stdout",
     "output_type": "stream",
     "text": [
      "       #                   Name   Type 1    Type 2  Total   HP  Attack  \\\n",
      "0      1              Bulbasaur    Grass    Poison    318   45      49   \n",
      "1      2                Ivysaur    Grass    Poison    405   60      62   \n",
      "2      3               Venusaur    Grass    Poison    525   80      82   \n",
      "3      3  VenusaurMega Venusaur    Grass    Poison    625   80     100   \n",
      "4      4             Charmander     Fire       NaN    309   39      52   \n",
      "..   ...                    ...      ...       ...    ...  ...     ...   \n",
      "161  149              Dragonite   Dragon    Flying    600   91     134   \n",
      "162  150                 Mewtwo  Psychic       NaN    680  106     110   \n",
      "163  150    MewtwoMega Mewtwo X  Psychic  Fighting    780  106     190   \n",
      "164  150    MewtwoMega Mewtwo Y  Psychic       NaN    780  106     150   \n",
      "165  151                    Mew  Psychic       NaN    600  100     100   \n",
      "\n",
      "     Defense  Sp. Atk  Sp. Def  Speed  Generation  Legendary  \n",
      "0         49       65       65     45           1      False  \n",
      "1         63       80       80     60           1      False  \n",
      "2         83      100      100     80           1      False  \n",
      "3        123      122      120     80           1      False  \n",
      "4         43       60       50     65           1      False  \n",
      "..       ...      ...      ...    ...         ...        ...  \n",
      "161       95      100      100     80           1      False  \n",
      "162       90      154       90    130           1       True  \n",
      "163      100      154      100    130           1       True  \n",
      "164       70      194      120    140           1       True  \n",
      "165      100      100      100    100           1      False  \n",
      "\n",
      "[166 rows x 13 columns]\n",
      "       #                     Name   Type 1  Type 2  Total   HP  Attack  \\\n",
      "166  152                Chikorita    Grass     NaN    318   45      49   \n",
      "167  153                  Bayleef    Grass     NaN    405   60      62   \n",
      "168  154                 Meganium    Grass     NaN    525   80      82   \n",
      "169  155                Cyndaquil     Fire     NaN    309   39      52   \n",
      "170  156                  Quilava     Fire     NaN    405   58      64   \n",
      "..   ...                      ...      ...     ...    ...  ...     ...   \n",
      "267  248                Tyranitar     Rock    Dark    600  100     134   \n",
      "268  248  TyranitarMega Tyranitar     Rock    Dark    700  100     164   \n",
      "269  249                    Lugia  Psychic  Flying    680  106      90   \n",
      "270  250                    Ho-oh     Fire  Flying    680  106     130   \n",
      "271  251                   Celebi  Psychic   Grass    600  100     100   \n",
      "\n",
      "     Defense  Sp. Atk  Sp. Def  Speed  Generation  Legendary  \n",
      "166       65       49       65     45           2      False  \n",
      "167       80       63       80     60           2      False  \n",
      "168      100       83      100     80           2      False  \n",
      "169       43       60       50     65           2      False  \n",
      "170       58       80       65     80           2      False  \n",
      "..       ...      ...      ...    ...         ...        ...  \n",
      "267      110       95      100     61           2      False  \n",
      "268      150       95      120     71           2      False  \n",
      "269      130       90      154    110           2       True  \n",
      "270       90      110      154     90           2       True  \n",
      "271      100      100      100    100           2      False  \n",
      "\n",
      "[106 rows x 13 columns]\n"
     ]
    }
   ],
   "source": [
    "# Your code here\n",
    "s1 = pokemon[pokemon[\"Generation\"] == 1]\n",
    "print(s1)\n",
    "\n",
    "s2 = pokemon[pokemon[\"Generation\"]== 2]\n",
    "print(s2)"
   ]
  },
  {
   "cell_type": "code",
   "execution_count": 19,
   "metadata": {},
   "outputs": [
    {
     "data": {
      "text/plain": [
       "{'HP': np.float64(0.1455169783421963),\n",
       " 'Attack': np.float64(0.24721958967217725),\n",
       " 'Defense': np.float64(0.5677711011725426),\n",
       " 'Sp. Atk': np.float64(0.12332165977104388),\n",
       " 'Sp. Def': np.float64(0.18829872292645752),\n",
       " 'Speed': np.float64(0.00239265937312135),\n",
       " 'Total': np.float64(0.5631377907941676)}"
      ]
     },
     "execution_count": 19,
     "metadata": {},
     "output_type": "execute_result"
    }
   ],
   "source": [
    "t_test_features(s1, s2, features=['HP', 'Attack', 'Defense', 'Sp. Atk', 'Sp. Def', 'Speed', 'Total'])"
   ]
  },
  {
   "cell_type": "markdown",
   "metadata": {},
   "source": [
    "#### What conclusions can you make?"
   ]
  },
  {
   "cell_type": "code",
   "execution_count": null,
   "metadata": {},
   "outputs": [],
   "source": [
    "# Your comment here\n",
    "# we cannot discard the h0 hypothesis, meaning that the stats are not significantly different from each other"
   ]
  },
  {
   "cell_type": "markdown",
   "metadata": {},
   "source": [
    "#### Compare pokemons who have single type vs those having two types."
   ]
  },
  {
   "cell_type": "code",
   "execution_count": 22,
   "metadata": {},
   "outputs": [
    {
     "name": "stdout",
     "output_type": "stream",
     "text": [
      "       #        Name  Type 1 Type 2  Total   HP  Attack  Defense  Sp. Atk  \\\n",
      "4      4  Charmander    Fire    NaN    309   39      52       43       60   \n",
      "5      5  Charmeleon    Fire    NaN    405   58      64       58       80   \n",
      "9      7    Squirtle   Water    NaN    314   44      48       65       50   \n",
      "10     8   Wartortle   Water    NaN    405   59      63       80       65   \n",
      "11     9   Blastoise   Water    NaN    530   79      83      100       85   \n",
      "..   ...         ...     ...    ...    ...  ...     ...      ...      ...   \n",
      "775  705     Sliggoo  Dragon    NaN    452   68      75       53       83   \n",
      "776  706      Goodra  Dragon    NaN    600   90     100       70      110   \n",
      "788  712    Bergmite     Ice    NaN    304   55      69       85       32   \n",
      "789  713     Avalugg     Ice    NaN    514   95     117      184       44   \n",
      "792  716     Xerneas   Fairy    NaN    680  126     131       95      131   \n",
      "\n",
      "     Sp. Def  Speed  Generation  Legendary  \n",
      "4         50     65           1      False  \n",
      "5         65     80           1      False  \n",
      "9         64     43           1      False  \n",
      "10        80     58           1      False  \n",
      "11       105     78           1      False  \n",
      "..       ...    ...         ...        ...  \n",
      "775      113     60           6      False  \n",
      "776      150     80           6      False  \n",
      "788       35     28           6      False  \n",
      "789       46     28           6      False  \n",
      "792       98     99           6       True  \n",
      "\n",
      "[386 rows x 13 columns]\n"
     ]
    }
   ],
   "source": [
    "# Your code here\n",
    "\n",
    "s1 = pokemon[pokemon[\"Type 2\"].isnull()]\n",
    "print(s1)\n"
   ]
  },
  {
   "cell_type": "code",
   "execution_count": 23,
   "metadata": {},
   "outputs": [
    {
     "name": "stdout",
     "output_type": "stream",
     "text": [
      "       #                   Name   Type 1  Type 2  Total  HP  Attack  Defense  \\\n",
      "0      1              Bulbasaur    Grass  Poison    318  45      49       49   \n",
      "1      2                Ivysaur    Grass  Poison    405  60      62       63   \n",
      "2      3               Venusaur    Grass  Poison    525  80      82       83   \n",
      "3      3  VenusaurMega Venusaur    Grass  Poison    625  80     100      123   \n",
      "6      6              Charizard     Fire  Flying    534  78      84       78   \n",
      "..   ...                    ...      ...     ...    ...  ..     ...      ...   \n",
      "795  719                Diancie     Rock   Fairy    600  50     100      150   \n",
      "796  719    DiancieMega Diancie     Rock   Fairy    700  50     160      110   \n",
      "797  720    HoopaHoopa Confined  Psychic   Ghost    600  80     110       60   \n",
      "798  720     HoopaHoopa Unbound  Psychic    Dark    680  80     160       60   \n",
      "799  721              Volcanion     Fire   Water    600  80     110      120   \n",
      "\n",
      "     Sp. Atk  Sp. Def  Speed  Generation  Legendary  \n",
      "0         65       65     45           1      False  \n",
      "1         80       80     60           1      False  \n",
      "2        100      100     80           1      False  \n",
      "3        122      120     80           1      False  \n",
      "6        109       85    100           1      False  \n",
      "..       ...      ...    ...         ...        ...  \n",
      "795      100      150     50           6       True  \n",
      "796      160      110    110           6       True  \n",
      "797      150      130     70           6       True  \n",
      "798      170      130     80           6       True  \n",
      "799      130       90     70           6       True  \n",
      "\n",
      "[414 rows x 13 columns]\n"
     ]
    }
   ],
   "source": [
    "s2 = pokemon[pokemon[\"Type 2\"].notnull()]\n",
    "print(s2)"
   ]
  },
  {
   "cell_type": "code",
   "execution_count": 24,
   "metadata": {},
   "outputs": [
    {
     "data": {
      "text/plain": [
       "{'HP': np.float64(0.11314389855379413),\n",
       " 'Attack': np.float64(0.00014932578145948305),\n",
       " 'Defense': np.float64(2.7978540411514693e-08),\n",
       " 'Sp. Atk': np.float64(0.00013876216585667907),\n",
       " 'Sp. Def': np.float64(0.00010730610934512779),\n",
       " 'Speed': np.float64(0.024217032818190935),\n",
       " 'Total': np.float64(1.1157056505229964e-07)}"
      ]
     },
     "execution_count": 24,
     "metadata": {},
     "output_type": "execute_result"
    }
   ],
   "source": [
    "t_test_features(s1, s2, features=['HP', 'Attack', 'Defense', 'Sp. Atk', 'Sp. Def', 'Speed', 'Total'])"
   ]
  },
  {
   "cell_type": "markdown",
   "metadata": {},
   "source": [
    "#### What conclusions can you make?"
   ]
  },
  {
   "cell_type": "code",
   "execution_count": 25,
   "metadata": {},
   "outputs": [],
   "source": [
    "# Your comment here\n",
    "# Taking the toal stats we can say that it differs since we could discard the H0 hypothesis. There are some stats like HP where you wouldnt discard it, for the others you would.\n"
   ]
  },
  {
   "cell_type": "markdown",
   "metadata": {},
   "source": [
    "#### Now, we want to compare whether there are significant differences of `Attack` vs `Defense`  and  `Sp. Atk` vs `Sp. Def` of all pokemons. Please write your code below.\n",
    "\n",
    "*Hint: are you comparing different populations or the same population?*"
   ]
  },
  {
   "cell_type": "code",
   "execution_count": 29,
   "metadata": {},
   "outputs": [
    {
     "name": "stdout",
     "output_type": "stream",
     "text": [
      "T-statistic: 4.325566393330478\n",
      "P-value: 1.7140303479358558e-05\n"
     ]
    }
   ],
   "source": [
    "# Your code here\n",
    "import numpy as np\n",
    "from scipy import stats\n",
    "\n",
    "s1 = pokemon[\"Attack\"]\n",
    "\n",
    "s2 = pokemon[\"Defense\"]\n",
    "\n",
    "\n",
    "t_stat, p_value = stats.ttest_rel(s1, s2)\n",
    "\n",
    "print(f\"T-statistic: {t_stat}\")\n",
    "print(f\"P-value: {p_value}\")"
   ]
  },
  {
   "cell_type": "code",
   "execution_count": 32,
   "metadata": {},
   "outputs": [
    {
     "name": "stdout",
     "output_type": "stream",
     "text": [
      "T-statistic: 0.853986188453353\n",
      "P-value: 0.3933685997548122\n"
     ]
    }
   ],
   "source": [
    "import numpy as np\n",
    "from scipy import stats\n",
    "\n",
    "s3 = pokemon[\"Sp. Atk\"]\n",
    "\n",
    "s4 = pokemon[\"Sp. Def\"]\n",
    "\n",
    "t_stat, p_value = stats.ttest_rel(s3, s4)\n",
    "\n",
    "print(f\"T-statistic: {t_stat}\")\n",
    "print(f\"P-value: {p_value}\")"
   ]
  },
  {
   "cell_type": "markdown",
   "metadata": {},
   "source": [
    "#### What conclusions can you make?"
   ]
  },
  {
   "cell_type": "code",
   "execution_count": null,
   "metadata": {},
   "outputs": [],
   "source": [
    "# Your comment here\n",
    "# There are differences between attack and Defense and we can reject the H0 hypothesis\n",
    "# We can not say that there are significant differences between Sp.Atk and Sp.Def"
   ]
  }
 ],
 "metadata": {
  "kernelspec": {
   "display_name": "Python 3 (ipykernel)",
   "language": "python",
   "name": "python3"
  },
  "language_info": {
   "codemirror_mode": {
    "name": "ipython",
    "version": 3
   },
   "file_extension": ".py",
   "mimetype": "text/x-python",
   "name": "python",
   "nbconvert_exporter": "python",
   "pygments_lexer": "ipython3",
   "version": "3.12.6"
  }
 },
 "nbformat": 4,
 "nbformat_minor": 2
}
