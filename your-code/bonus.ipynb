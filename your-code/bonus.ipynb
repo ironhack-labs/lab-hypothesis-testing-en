{
 "cells": [
  {
   "cell_type": "markdown",
   "metadata": {},
   "source": [
    "# Challenge 1 - T-test\n",
    "\n",
    "In statistics, t-test is used to test if two data samples have a significant difference between their means. There are two types of t-test:\n",
    "\n",
    "* **Student's t-test** (a.k.a. independent or uncorrelated t-test). This type of t-test is to compare the samples of **two independent populations** (e.g. test scores of students in two different classes). `scipy` provides the [`ttest_ind`](https://docs.scipy.org/doc/scipy-0.15.1/reference/generated/scipy.stats.ttest_ind.html) method to conduct student's t-test.\n",
    "\n",
    "* **Paired t-test** (a.k.a. dependent or correlated t-test). This type of t-test is to compare the samples of **the same population** (e.g. scores of different tests of students in the same class). `scipy` provides the [`ttest_re`](https://docs.scipy.org/doc/scipy-0.15.1/reference/generated/scipy.stats.ttest_rel.html) method to conduct paired t-test.\n",
    "\n",
    "Both types of t-tests return a number which is called the **p-value**. If p-value is below 0.05, we can confidently declare the null-hypothesis is rejected and the difference is significant. If p-value is between 0.05 and 0.1, we may also declare the null-hypothesis is rejected but we are not highly confident. If p-value is above 0.1 we do not reject the null-hypothesis.\n",
    "\n",
    "Read more about the t-test in [this article](https://researchbasics.education.uconn.edu/t-test/) and [this Quora](https://www.quora.com/What-is-the-difference-between-a-paired-and-unpaired-t-test). Make sure you understand when to use which type of t-test. "
   ]
  },
  {
   "cell_type": "code",
   "execution_count": 1,
   "metadata": {},
   "outputs": [],
   "source": [
    "# Import libraries\n",
    "\n",
    "import pandas as pd"
   ]
  },
  {
   "cell_type": "markdown",
   "metadata": {},
   "source": [
    "#### Import dataset\n",
    "\n",
    "In this challenge we will work on the Pokemon dataset you have used last week. The goal is to test whether different groups of pokemon (e.g. Legendary vs Normal, Generation 1 vs 2, single-type vs dual-type) have different stats (e.g. HP, Attack, Defense, etc.)."
   ]
  },
  {
   "cell_type": "code",
   "execution_count": 3,
   "metadata": {},
   "outputs": [
    {
     "data": {
      "text/html": [
       "<div>\n",
       "<style scoped>\n",
       "    .dataframe tbody tr th:only-of-type {\n",
       "        vertical-align: middle;\n",
       "    }\n",
       "\n",
       "    .dataframe tbody tr th {\n",
       "        vertical-align: top;\n",
       "    }\n",
       "\n",
       "    .dataframe thead th {\n",
       "        text-align: right;\n",
       "    }\n",
       "</style>\n",
       "<table border=\"1\" class=\"dataframe\">\n",
       "  <thead>\n",
       "    <tr style=\"text-align: right;\">\n",
       "      <th></th>\n",
       "      <th>#</th>\n",
       "      <th>Name</th>\n",
       "      <th>Type 1</th>\n",
       "      <th>Type 2</th>\n",
       "      <th>Total</th>\n",
       "      <th>HP</th>\n",
       "      <th>Attack</th>\n",
       "      <th>Defense</th>\n",
       "      <th>Sp. Atk</th>\n",
       "      <th>Sp. Def</th>\n",
       "      <th>Speed</th>\n",
       "      <th>Generation</th>\n",
       "      <th>Legendary</th>\n",
       "    </tr>\n",
       "  </thead>\n",
       "  <tbody>\n",
       "    <tr>\n",
       "      <th>0</th>\n",
       "      <td>1</td>\n",
       "      <td>Bulbasaur</td>\n",
       "      <td>Grass</td>\n",
       "      <td>Poison</td>\n",
       "      <td>318</td>\n",
       "      <td>45</td>\n",
       "      <td>49</td>\n",
       "      <td>49</td>\n",
       "      <td>65</td>\n",
       "      <td>65</td>\n",
       "      <td>45</td>\n",
       "      <td>1</td>\n",
       "      <td>False</td>\n",
       "    </tr>\n",
       "    <tr>\n",
       "      <th>1</th>\n",
       "      <td>2</td>\n",
       "      <td>Ivysaur</td>\n",
       "      <td>Grass</td>\n",
       "      <td>Poison</td>\n",
       "      <td>405</td>\n",
       "      <td>60</td>\n",
       "      <td>62</td>\n",
       "      <td>63</td>\n",
       "      <td>80</td>\n",
       "      <td>80</td>\n",
       "      <td>60</td>\n",
       "      <td>1</td>\n",
       "      <td>False</td>\n",
       "    </tr>\n",
       "    <tr>\n",
       "      <th>2</th>\n",
       "      <td>3</td>\n",
       "      <td>Venusaur</td>\n",
       "      <td>Grass</td>\n",
       "      <td>Poison</td>\n",
       "      <td>525</td>\n",
       "      <td>80</td>\n",
       "      <td>82</td>\n",
       "      <td>83</td>\n",
       "      <td>100</td>\n",
       "      <td>100</td>\n",
       "      <td>80</td>\n",
       "      <td>1</td>\n",
       "      <td>False</td>\n",
       "    </tr>\n",
       "    <tr>\n",
       "      <th>3</th>\n",
       "      <td>3</td>\n",
       "      <td>VenusaurMega Venusaur</td>\n",
       "      <td>Grass</td>\n",
       "      <td>Poison</td>\n",
       "      <td>625</td>\n",
       "      <td>80</td>\n",
       "      <td>100</td>\n",
       "      <td>123</td>\n",
       "      <td>122</td>\n",
       "      <td>120</td>\n",
       "      <td>80</td>\n",
       "      <td>1</td>\n",
       "      <td>False</td>\n",
       "    </tr>\n",
       "    <tr>\n",
       "      <th>4</th>\n",
       "      <td>4</td>\n",
       "      <td>Charmander</td>\n",
       "      <td>Fire</td>\n",
       "      <td>NaN</td>\n",
       "      <td>309</td>\n",
       "      <td>39</td>\n",
       "      <td>52</td>\n",
       "      <td>43</td>\n",
       "      <td>60</td>\n",
       "      <td>50</td>\n",
       "      <td>65</td>\n",
       "      <td>1</td>\n",
       "      <td>False</td>\n",
       "    </tr>\n",
       "  </tbody>\n",
       "</table>\n",
       "</div>"
      ],
      "text/plain": [
       "   #                   Name Type 1  Type 2  Total  HP  Attack  Defense  \\\n",
       "0  1              Bulbasaur  Grass  Poison    318  45      49       49   \n",
       "1  2                Ivysaur  Grass  Poison    405  60      62       63   \n",
       "2  3               Venusaur  Grass  Poison    525  80      82       83   \n",
       "3  3  VenusaurMega Venusaur  Grass  Poison    625  80     100      123   \n",
       "4  4             Charmander   Fire     NaN    309  39      52       43   \n",
       "\n",
       "   Sp. Atk  Sp. Def  Speed  Generation  Legendary  \n",
       "0       65       65     45           1      False  \n",
       "1       80       80     60           1      False  \n",
       "2      100      100     80           1      False  \n",
       "3      122      120     80           1      False  \n",
       "4       60       50     65           1      False  "
      ]
     },
     "execution_count": 3,
     "metadata": {},
     "output_type": "execute_result"
    }
   ],
   "source": [
    "# Import dataset\n",
    "\n",
    "pokemon = pd.read_csv('../data/Pokemon.csv')\n",
    "\n",
    "pokemon.head()"
   ]
  },
  {
   "cell_type": "markdown",
   "metadata": {},
   "source": [
    "#### First we want to define a function with which we can test the means of a feature set of two samples. \n",
    "\n",
    "In the next cell you'll see the annotations of the Python function that explains what this function does and its arguments and returned value. This type of annotation is called **docstring** which is a convention used among Python developers. The docstring convention allows developers to write consistent tech documentations for their codes so that others can read. It also allows some websites to automatically parse the docstrings and display user-friendly documentations.\n",
    "\n",
    "Follow the specifications of the docstring and complete the function."
   ]
  },
  {
   "cell_type": "code",
   "execution_count": 5,
   "metadata": {},
   "outputs": [],
   "source": [
    "from scipy.stats import ttest_ind\n",
    "\n",
    "def t_test_features(s1, s2, features=['HP', 'Attack', 'Defense', 'Sp. Atk', 'Sp. Def', 'Speed', 'Total']):\n",
    "    \"\"\"Test means of a feature set of two samples\n",
    "    \n",
    "    Args:\n",
    "        s1 (dataframe): sample 1\n",
    "        s2 (dataframe): sample 2\n",
    "        features (list): an array of features to test\n",
    "    \n",
    "    Returns:\n",
    "        dict: a dictionary of t-test scores for each feature where the feature name is the key and the p-value is the value\n",
    "    \"\"\"\n",
    "    results = {}\n",
    "\n",
    "    # Your code here\n",
    "    for feature in features:\n",
    "        # Perform the t-test on the feature\n",
    "        t_stat, p_value = ttest_ind(s1[feature], s2[feature], equal_var=False)  # Welch's t-test for unequal variance\n",
    "        \n",
    "        # Store the p-value in the dictionary\n",
    "        results[feature] = p_value\n",
    "    \n",
    "    return results\n"
   ]
  },
  {
   "cell_type": "markdown",
   "metadata": {},
   "source": [
    "#### Using the `t_test_features` function, conduct t-test for Lengendary vs non-Legendary pokemons.\n",
    "\n",
    "*Hint: your output should look like below:*\n",
    "\n",
    "```\n",
    "{'HP': 1.0026911708035284e-13,\n",
    " 'Attack': 2.520372449236646e-16,\n",
    " 'Defense': 4.8269984949193316e-11,\n",
    " 'Sp. Atk': 1.5514614112239812e-21,\n",
    " 'Sp. Def': 2.2949327864052826e-15,\n",
    " 'Speed': 1.049016311882451e-18,\n",
    " 'Total': 9.357954335957446e-47}\n",
    " ```"
   ]
  },
  {
   "cell_type": "code",
   "execution_count": 28,
   "metadata": {},
   "outputs": [
    {
     "name": "stdout",
     "output_type": "stream",
     "text": [
      "Legendary vs Non-Legendary Pokémon T-test Results:\n",
      "  HP - p-value: 1.0026911708035284e-13\n",
      "  Attack - p-value: 2.520372449236646e-16\n",
      "  Defense - p-value: 4.8269984949193316e-11\n",
      "  Sp. Atk - p-value: 1.5514614112239812e-21\n",
      "  Sp. Def - p-value: 2.2949327864052826e-15\n",
      "  Speed - p-value: 1.049016311882451e-18\n",
      "  Total - p-value: 9.357954335957446e-47\n"
     ]
    }
   ],
   "source": [
    "# Your code here\n",
    "\n",
    "# Separate Legendary and non-Legendary Pokémon\n",
    "# Filtering the dataset to create two groups: one for Legendary Pokémon (where 'Legendary' column is True)\n",
    "# and one for non-Legendary Pokémon (where 'Legendary' column is False)\n",
    "legendary_pokemon = pokemon[pokemon['Legendary'] == True]\n",
    "non_legendary_pokemon = pokemon[pokemon['Legendary'] == False]\n",
    "\n",
    "# Conduct the t-test for Legendary vs non-Legendary Pokémon\n",
    "# We are comparing the means of each feature for the two groups (Legendary vs non-Legendary)\n",
    "# The t_test_features function performs t-tests on the features (such as 'HP', 'Attack', etc.)\n",
    "test_results = t_test_features(legendary_pokemon, non_legendary_pokemon)\n",
    "\n",
    "# Output the results with identification\n",
    "# We iterate through the test results dictionary and print each feature and its corresponding p-value\n",
    "print(\"Legendary vs Non-Legendary Pokémon T-test Results:\")\n",
    "for feature, p_value in test_results.items():\n",
    "    print(f\"  {feature} - p-value: {p_value}\")\n",
    "\n",
    "\n",
    "\n"
   ]
  },
  {
   "cell_type": "markdown",
   "metadata": {},
   "source": [
    "#### From the test results above, what conclusion can you make? Do Legendary and non-Legendary pokemons have significantly different stats on each feature?"
   ]
  },
  {
   "cell_type": "markdown",
   "metadata": {},
   "source": [
    "Your comment here\n",
    "\n",
    "### Conclusion\n",
    "\n",
    "From the t-test results, we can conclude that there are significant differences between Legendary and non-Legendary Pokémon for each feature. The p-values for all features are extremely small (close to zero), which indicates that the null hypothesis is rejected for each feature. \n",
    "\n",
    "This means that the stats of Legendary Pokémon are statistically different from those of non-Legendary Pokémon in terms of **HP**, **Attack**, **Defense**, **Sp. Atk**, **Sp. Def**, **Speed**, and **Total**. The low p-values suggest that these differences are not due to random chance, and Legendary Pokémon generally have higher stats compared to non-Legendary Pokémon.\n"
   ]
  },
  {
   "cell_type": "markdown",
   "metadata": {},
   "source": [
    "#### Next, conduct t-test for Generation 1 and Generation 2 pokemons."
   ]
  },
  {
   "cell_type": "code",
   "execution_count": 32,
   "metadata": {},
   "outputs": [
    {
     "name": "stdout",
     "output_type": "stream",
     "text": [
      "Generation 1 vs Generation 2 Pokémon T-test Results:\n",
      "  HP - p-value: 0.14551697834219623\n",
      "  Attack - p-value: 0.24721958967217725\n",
      "  Defense - p-value: 0.5677711011725426\n",
      "  Sp. Atk - p-value: 0.12332165977104388\n",
      "  Sp. Def - p-value: 0.18829872292645752\n",
      "  Speed - p-value: 0.00239265937312135\n",
      "  Total - p-value: 0.5631377907941676\n"
     ]
    }
   ],
   "source": [
    "# Your code here\n",
    "\n",
    "# Your code here\n",
    "\n",
    "# Separate Generation 1 and Generation 2 Pokémon\n",
    "# Filtering the dataset to create two groups: one for Generation 1 Pokémon (where 'Generation' column is 1)\n",
    "# and one for Generation 2 Pokémon (where 'Generation' column is 2)\n",
    "gen1_pokemon = pokemon[pokemon['Generation'] == 1]\n",
    "gen2_pokemon = pokemon[pokemon['Generation'] == 2]\n",
    "\n",
    "# Conduct the t-test for Generation 1 vs Generation 2 Pokémon\n",
    "# We are comparing the means of each feature for the two groups (Generation 1 vs Generation 2)\n",
    "# The t_test_features function performs t-tests on the features (such as 'HP', 'Attack', etc.)\n",
    "test_results_gen1_gen2 = t_test_features(gen1_pokemon, gen2_pokemon)\n",
    "\n",
    "# Output the results with identification\n",
    "# We iterate through the test results dictionary and print each feature and its corresponding p-value\n",
    "print(\"Generation 1 vs Generation 2 Pokémon T-test Results:\")\n",
    "for feature, p_value in test_results_gen1_gen2.items():\n",
    "    print(f\"  {feature} - p-value: {p_value}\")  # p-value for each feature\n",
    "\n"
   ]
  },
  {
   "cell_type": "markdown",
   "metadata": {},
   "source": [
    "#### What conclusions can you make?"
   ]
  },
  {
   "cell_type": "markdown",
   "metadata": {},
   "source": [
    "Your comment here\n",
    "\n",
    "### Conclusion for Generation 1 vs Generation 2 Pokémon\n",
    "\n",
    "From the t-test results for Generation 1 and Generation 2 Pokémon, we can conclude that:\n",
    "\n",
    "- For most stats (HP, Attack, Defense, Sp. Atk, Sp. Def, and Total), there is no significant difference between the two generations. The p-values for these features are all above 0.05, meaning we fail to reject the null hypothesis for these stats. This suggests that Generation 1 and Generation 2 Pokémon do not have significantly different stats in these categories.\n",
    "  \n",
    "- However, for **Speed**, we observe a significant difference with a p-value of **0.0024**, which is below the 0.05 threshold. This means we can reject the null hypothesis for Speed and conclude that Generation 1 and Generation 2 Pokémon have significantly different Speed stats.\n",
    "\n",
    "In summary, while most stats are similar across both generations, **Speed** is the one feature where there is a significant difference between Generation 1 and Generation 2 Pokémon.\n"
   ]
  },
  {
   "cell_type": "markdown",
   "metadata": {},
   "source": [
    "#### Compare pokemons who have single type vs those having two types."
   ]
  },
  {
   "cell_type": "code",
   "execution_count": 30,
   "metadata": {},
   "outputs": [
    {
     "name": "stdout",
     "output_type": "stream",
     "text": [
      "Single-type vs Dual-type Pokémon T-test Results:\n",
      "  HP - p-value: 0.11314389855379413\n",
      "  Attack - p-value: 0.00014932578145948305\n",
      "  Defense - p-value: 2.7978540411514693e-08\n",
      "  Sp. Atk - p-value: 0.00013876216585667907\n",
      "  Sp. Def - p-value: 0.00010730610934512779\n",
      "  Speed - p-value: 0.02421703281819093\n",
      "  Total - p-value: 1.1157056505229961e-07\n"
     ]
    }
   ],
   "source": [
    "# Your code here\n",
    "\n",
    "# Separate Pokémon with a single type and those with two types\n",
    "# Pokémon with single type: Where 'Type 2' is NaN (i.e., no second type)\n",
    "# Pokémon with two types: Where 'Type 2' is not NaN (i.e., has a second type)\n",
    "single_type_pokemon = pokemon[pokemon['Type 2'].isna()]\n",
    "dual_type_pokemon = pokemon[pokemon['Type 2'].notna()]\n",
    "\n",
    "# Conduct the t-test for single type vs dual type Pokémon\n",
    "# The t_test_features function will compare the means of each feature (such as 'HP', 'Attack', etc.)\n",
    "# between the single-type and dual-type Pokémon groups. The function returns p-values for each feature.\n",
    "test_results_types = t_test_features(single_type_pokemon, dual_type_pokemon)\n",
    "\n",
    "# Output the results with identification\n",
    "# We iterate through the test results dictionary and print each feature and its corresponding p-value\n",
    "# The p-values indicate whether there is a statistically significant difference between the two groups for each feature\n",
    "print(\"Single-type vs Dual-type Pokémon T-test Results:\")\n",
    "for feature, p_value in test_results_types.items():\n",
    "    print(f\"  {feature} - p-value: {p_value}\")  # p-value for each feature\n"
   ]
  },
  {
   "cell_type": "markdown",
   "metadata": {},
   "source": [
    "#### What conclusions can you make?"
   ]
  },
  {
   "cell_type": "markdown",
   "metadata": {},
   "source": [
    "Your comment here\n",
    "\n",
    "### Conclusion for Single-type vs Dual-type Pokémon\n",
    "\n",
    "From the t-test results comparing single-type and dual-type Pokémon, we observe the following:\n",
    "\n",
    "- **HP, Attack, Defense, Sp. Atk, Sp. Def, Speed, Total**: All of these features have very low p-values, most notably for **Defense** and **Total** (with p-values as low as `2.80e-08` and `1.12e-07` respectively). Since all these p-values are well below the threshold of **0.05**, we can confidently reject the null hypothesis for each of these stats.\n",
    "- **Speed** has a p-value of **0.0242**, which is also below **0.05**, indicating a significant difference between single-type and dual-type Pokémon in terms of Speed.\n",
    "- **HP**: The p-value for HP is **0.1131**, which is greater than **0.05**. This suggests that there is no significant difference between single-type and dual-type Pokémon in terms of HP.\n",
    "\n",
    "#### Summary:\n",
    "- **Significant Differences**: There are significant differences between single-type and dual-type Pokémon in terms of **Attack**, **Defense**, **Sp. Atk**, **Sp. Def**, **Speed**, and **Total**.\n",
    "- **No Significant Difference**: The **HP** stat does not show a significant difference between the two groups.\n",
    "\n",
    "This suggests that dual-type Pokémon tend to have significantly different stats from single-type Pokémon, particularly in their **defensive** and **overall stats**, but there is no significant difference in **HP**.\n"
   ]
  },
  {
   "cell_type": "markdown",
   "metadata": {},
   "source": [
    "#### Now, we want to compare whether there are significant differences of `Attack` vs `Defense`  and  `Sp. Atk` vs `Sp. Def` of all pokemons. Please write your code below.\n",
    "\n",
    "*Hint: are you comparing different populations or the same population?*"
   ]
  },
  {
   "cell_type": "code",
   "execution_count": 20,
   "metadata": {},
   "outputs": [
    {
     "name": "stdout",
     "output_type": "stream",
     "text": [
      "Attack vs Defense:\n",
      "  t-statistic: 4.325566393330478\n",
      "  p-value: 1.7140303479358558e-05\n",
      "\n",
      "Sp. Atk vs Sp. Def:\n",
      "  t-statistic: 0.853986188453353\n",
      "  p-value: 0.3933685997548122\n"
     ]
    }
   ],
   "source": [
    "from scipy.stats import ttest_rel\n",
    "\n",
    "# Conduct the paired t-test for Attack vs Defense\n",
    "t_stat_attack_defense, p_value_attack_defense = ttest_rel(pokemon['Attack'], pokemon['Defense'])\n",
    "\n",
    "# Conduct the paired t-test for Sp. Atk vs Sp. Def\n",
    "t_stat_spatk_spdef, p_value_spatk_spdef = ttest_rel(pokemon['Sp. Atk'], pokemon['Sp. Def'])\n",
    "\n",
    "# Output the results with identification\n",
    "print(f\"Attack vs Defense:\")\n",
    "print(f\"  t-statistic: {t_stat_attack_defense}\")\n",
    "print(f\"  p-value: {p_value_attack_defense}\\n\")\n",
    "\n",
    "print(f\"Sp. Atk vs Sp. Def:\")\n",
    "print(f\"  t-statistic: {t_stat_spatk_spdef}\")\n",
    "print(f\"  p-value: {p_value_spatk_spdef}\")\n"
   ]
  },
  {
   "cell_type": "markdown",
   "metadata": {},
   "source": [
    "#### What conclusions can you make?"
   ]
  },
  {
   "cell_type": "markdown",
   "metadata": {},
   "source": [
    "Your comment here\n",
    "\n",
    "### Conclusion for Attack vs Defense and Sp. Atk vs Sp. Def\n",
    "\n",
    "From the paired t-test results, we can draw the following conclusions:\n",
    "\n",
    "1. **Attack vs Defense**:\n",
    "   - The p-value for the comparison between `Attack` and `Defense` is **1.71e-05**, which is much smaller than the threshold of **0.05**. This indicates that we **reject the null hypothesis**, meaning that there is a **statistically significant difference** between the `Attack` and `Defense` stats of Pokémon. The average `Attack` stat differs from the average `Defense` stat.\n",
    "\n",
    "2. **Sp. Atk vs Sp. Def**:\n",
    "   - The p-value for the comparison between `Sp. Atk` and `Sp. Def` is **0.393**, which is much greater than **0.05**. This means we **fail to reject the null hypothesis**, suggesting that there is **no significant difference** between `Sp. Atk` and `Sp. Def`. The means of these two features are not significantly different.\n",
    "\n",
    "### Summary:\n",
    "- **Significant difference**: `Attack` vs `Defense` – There is a statistically significant difference between these two features.\n",
    "- **No significant difference**: `Sp. Atk` vs `Sp. Def` – There is no statistically significant difference between these two features.\n",
    "\n",
    "This suggests that while Pokémon have significantly different `Attack` and `Defense` stats, their `Sp. Atk` and `Sp. Def` stats do not differ significantly.\n"
   ]
  }
 ],
 "metadata": {
  "kernelspec": {
   "display_name": "Python [conda env:base] *",
   "language": "python",
   "name": "conda-base-py"
  },
  "language_info": {
   "codemirror_mode": {
    "name": "ipython",
    "version": 3
   },
   "file_extension": ".py",
   "mimetype": "text/x-python",
   "name": "python",
   "nbconvert_exporter": "python",
   "pygments_lexer": "ipython3",
   "version": "3.12.7"
  }
 },
 "nbformat": 4,
 "nbformat_minor": 4
}
