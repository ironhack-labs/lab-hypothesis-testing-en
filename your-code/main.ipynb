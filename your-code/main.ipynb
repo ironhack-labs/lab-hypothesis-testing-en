{
 "cells": [
  {
   "cell_type": "markdown",
   "metadata": {},
   "source": [
    "# Before your start:\n",
    "- Read the README.md file\n",
    "- Comment as much as you can and use the resources (README.md file)\n",
    "- Happy learning!"
   ]
  },
  {
   "cell_type": "code",
   "execution_count": 1,
   "metadata": {},
   "outputs": [],
   "source": [
    "# import numpy and pandas\n",
    "import pandas as pd\n",
    "import numpy as np\n",
    "from scipy.stats import trim_mean, mode, skew, gaussian_kde, pearsonr, spearmanr, beta\n",
    "from statsmodels.stats.weightstats import ztest as ztest\n",
    "\n",
    "from scipy.stats import ttest_ind, norm, t\n",
    "from scipy.stats import f_oneway\n",
    "from scipy.stats import sem"
   ]
  },
  {
   "cell_type": "markdown",
   "metadata": {},
   "source": [
    "# Challenge 1 - Exploring the Data\n",
    "\n",
    "In this challenge, we will examine all salaries of employees of the City of Chicago. We will start by loading the dataset and examining its contents"
   ]
  },
  {
   "cell_type": "code",
   "execution_count": 3,
   "metadata": {},
   "outputs": [],
   "source": [
    "# Run this code:\n",
    "salaries = pd.read_csv('Current_Employee_Names__Salaries__and_Position_Titles.csv')"
   ]
  },
  {
   "cell_type": "markdown",
   "metadata": {},
   "source": [
    "Examine the `salaries` dataset using the `head` function below."
   ]
  },
  {
   "cell_type": "code",
   "execution_count": null,
   "metadata": {},
   "outputs": [],
   "source": [
    "# Your code here"
   ]
  },
  {
   "cell_type": "markdown",
   "metadata": {},
   "source": [
    "# Challenge 2 - Hypothesis Tests\n",
    "\n",
    "In this section of the lab, we will test whether the hourly wage of all hourly workers is significantly different from $30/hr. Import the correct one sample test function from scipy and perform the hypothesis test for a 95% two sided confidence interval."
   ]
  },
  {
   "cell_type": "code",
   "execution_count": 4,
   "metadata": {},
   "outputs": [
    {
     "name": "stdout",
     "output_type": "stream",
     "text": [
      "T-test Statistic: 20.6198\n",
      "P-value: 0.0000\n",
      "We reject the null hypothesis. The average hourly wage is significantly different from 30 USD.\n"
     ]
    }
   ],
   "source": [
    "# Your code here\n",
    "\n",
    "from scipy.stats import ttest_1samp\n",
    "\n",
    "# Step 1: Filter out rows where 'Hourly Rate' is not null (NaN)\n",
    "hourly_wages = salaries['Hourly Rate'].dropna()\n",
    "\n",
    "# Step 2: Perform one-sample t-test\n",
    "# Test if the mean hourly wage is significantly different from 30 USD\n",
    "test_statistic, p_value = ttest_1samp(hourly_wages, 30)\n",
    "\n",
    "# Step 3: Print the results\n",
    "print(f\"T-test Statistic: {test_statistic:.4f}\")\n",
    "print(f\"P-value: {p_value:.4f}\")\n",
    "\n",
    "# Step 4: Interpret the result\n",
    "alpha = 0.05  # 5% significance level\n",
    "if p_value < alpha:\n",
    "    print(\"We reject the null hypothesis. The average hourly wage is significantly different from 30 USD.\")\n",
    "else:\n",
    "    print(\"We fail to reject the null hypothesis. There is no significant difference between the average hourly wage and 30 USD.\")\n"
   ]
  },
  {
   "cell_type": "markdown",
   "metadata": {},
   "source": [
    "# Challenge 3 - Constructing Confidence Intervals\n",
    "\n",
    "While testing our hypothesis is a great way to gather empirical evidence for accepting or rejecting the hypothesis, another way to gather evidence is by creating a confidence interval. A confidence interval gives us information about the true mean of the population. So for a 95% confidence interval, we are 95% sure that the mean of the population is within the confidence interval. \n",
    ").\n",
    "\n",
    "To read more about confidence intervals, click [here](https://en.wikipedia.org/wiki/Confidence_interval).\n",
    "\n",
    "\n",
    "In the cell below, we will construct a 95% confidence interval for the mean hourly wage of all hourly workers. \n",
    "\n",
    "The confidence interval is computed in SciPy using the `t.interval` function. You can read more about this function [here](https://docs.scipy.org/doc/scipy-0.14.0/reference/generated/scipy.stats.t.html).\n",
    "\n",
    "To compute the confidence interval of the hourly wage, use the 0.95 for the confidence level, number of rows - 1 for degrees of freedom, the mean of the sample for the location parameter and the standard error for the scale. The standard error can be computed using [this](https://docs.scipy.org/doc/scipy/reference/generated/scipy.stats.sem.html) function in SciPy."
   ]
  },
  {
   "cell_type": "code",
   "execution_count": 5,
   "metadata": {},
   "outputs": [
    {
     "name": "stdout",
     "output_type": "stream",
     "text": [
      "Sample Mean: 32.7886\n",
      "Standard Error: 0.1352\n",
      "95% Confidence Interval: (32.52345834488425, 33.05365708767623)\n"
     ]
    }
   ],
   "source": [
    "# Your code here\n",
    "import numpy as np\n",
    "from scipy import stats\n",
    "\n",
    "# Step 1: Filter out rows with non-null 'Hourly Rate' values\n",
    "hourly_wages = salaries['Hourly Rate'].dropna()\n",
    "\n",
    "# Step 2: Calculate sample statistics\n",
    "sample_mean = np.mean(hourly_wages)  # Sample mean\n",
    "sample_size = len(hourly_wages)  # Sample size\n",
    "sample_std = np.std(hourly_wages, ddof=1)  # Sample standard deviation (Bessel's correction with ddof=1)\n",
    "\n",
    "# Step 3: Calculate standard error of the mean\n",
    "standard_error = sample_std / np.sqrt(sample_size)\n",
    "\n",
    "# Step 4: Calculate the 95% confidence interval using the t-distribution\n",
    "confidence_level = 0.95\n",
    "degrees_of_freedom = sample_size - 1  # Degrees of freedom for t-distribution\n",
    "\n",
    "confidence_interval = stats.t.interval(confidence_level, df=degrees_of_freedom, loc=sample_mean, scale=standard_error)\n",
    "\n",
    "# Display the results\n",
    "print(f\"Sample Mean: {sample_mean:.4f}\")\n",
    "print(f\"Standard Error: {standard_error:.4f}\")\n",
    "print(f\"95% Confidence Interval: {confidence_interval}\")\n"
   ]
  },
  {
   "cell_type": "markdown",
   "metadata": {},
   "source": [
    "# Challenge 4 - Hypothesis Tests of Proportions\n",
    "\n",
    "Another type of one sample test is a hypothesis test of proportions. In this test, we examine whether the proportion of a group in our sample is significantly different than a fraction. \n",
    "\n",
    "You can read more about one sample proportion tests [here](http://sphweb.bumc.bu.edu/otlt/MPH-Modules/BS/SAS/SAS6-CategoricalData/SAS6-CategoricalData2.html).\n",
    "\n",
    "In the cell below, use the `proportions_ztest` function from `statsmodels` to perform a hypothesis test that will determine whether the number of hourly workers in the City of Chicago is significantly different from 25% at the 95% confidence level."
   ]
  },
  {
   "cell_type": "code",
   "execution_count": 6,
   "metadata": {},
   "outputs": [
    {
     "name": "stdout",
     "output_type": "stream",
     "text": [
      "Z-statistic: -3.5100\n",
      "P-value: 0.0004\n",
      "We reject the null hypothesis. The proportion of hourly workers is significantly different from 25.0%.\n"
     ]
    }
   ],
   "source": [
    "# Your code here\n",
    "\n",
    "from statsmodels.stats.proportion import proportions_ztest\n",
    "\n",
    "# Step 1: Count the number of hourly workers and total number of workers\n",
    "count_hourly_workers = len(hourly_wages)  # Number of hourly workers\n",
    "total_workers = len(salaries['Hourly Rate'])  # Total number of workers in the dataset\n",
    "\n",
    "# Step 2: Define the hypothesized proportion\n",
    "hypothesized_proportion = 0.25\n",
    "\n",
    "# Step 3: Perform a one-sample z-test for proportions\n",
    "z_stat, p_value = proportions_ztest(count_hourly_workers, total_workers, value=hypothesized_proportion, alternative='two-sided')\n",
    "\n",
    "# Step 4: Display the results\n",
    "print(f\"Z-statistic: {z_stat:.4f}\")\n",
    "print(f\"P-value: {p_value:.4f}\")\n",
    "\n",
    "# Step 5: Interpretation\n",
    "alpha = 0.05  # 5% significance level\n",
    "if p_value < alpha:\n",
    "    print(f\"We reject the null hypothesis. The proportion of hourly workers is significantly different from {hypothesized_proportion*100}%.\")\n",
    "else:\n",
    "    print(f\"We fail to reject the null hypothesis. There is no significant difference in the proportion of hourly workers from {hypothesized_proportion*100}%.\")\n"
   ]
  }
 ],
 "metadata": {
  "kernelspec": {
   "display_name": "Python 3 (ipykernel)",
   "language": "python",
   "name": "python3"
  },
  "language_info": {
   "codemirror_mode": {
    "name": "ipython",
    "version": 3
   },
   "file_extension": ".py",
   "mimetype": "text/x-python",
   "name": "python",
   "nbconvert_exporter": "python",
   "pygments_lexer": "ipython3",
   "version": "3.11.2"
  }
 },
 "nbformat": 4,
 "nbformat_minor": 2
}
