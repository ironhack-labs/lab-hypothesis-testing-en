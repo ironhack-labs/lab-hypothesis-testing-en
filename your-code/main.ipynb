{
 "cells": [
  {
   "cell_type": "markdown",
   "metadata": {},
   "source": [
    "# Before your start:\n",
    "- Read the README.md file\n",
    "- Comment as much as you can and use the resources (README.md file)\n",
    "- Happy learning!"
   ]
  },
  {
   "cell_type": "code",
   "execution_count": 1,
   "metadata": {},
   "outputs": [],
   "source": [
    "# import numpy and pandas\n",
    "import pandas as pd\n",
    "import numpy as np\n",
    "from scipy.stats import trim_mean, mode, skew, gaussian_kde, pearsonr, spearmanr, beta\n",
    "from statsmodels.stats.weightstats import ztest as ztest\n",
    "\n",
    "from scipy.stats import ttest_ind, norm, t\n",
    "from scipy.stats import f_oneway\n",
    "from scipy.stats import sem\n",
    "\n"
   ]
  },
  {
   "cell_type": "markdown",
   "metadata": {},
   "source": [
    "# Challenge 1 - Exploring the Data\n",
    "\n",
    "In this challenge, we will examine all salaries of employees of the City of Chicago. We will start by loading the dataset and examining its contents"
   ]
  },
  {
   "cell_type": "code",
   "execution_count": 5,
   "metadata": {},
   "outputs": [],
   "source": [
    "# Run this code:\n",
    "salaries = pd.read_csv(r\"../data/Current_Employee_Names__Salaries__and_Position_Titles.csv\")"
   ]
  },
  {
   "cell_type": "markdown",
   "metadata": {},
   "source": [
    "Examine the `salaries` dataset using the `head` function below."
   ]
  },
  {
   "cell_type": "code",
   "execution_count": 9,
   "metadata": {},
   "outputs": [
    {
     "name": "stdout",
     "output_type": "stream",
     "text": [
      "                  Name                              Job Titles   \n",
      "0    AARON,  JEFFERY M                                SERGEANT  \\\n",
      "1      AARON,  KARINA   POLICE OFFICER (ASSIGNED AS DETECTIVE)   \n",
      "2  AARON,  KIMBERLEI R                CHIEF CONTRACT EXPEDITER   \n",
      "3  ABAD JR,  VICENTE M                       CIVIL ENGINEER IV   \n",
      "4    ABASCAL,  REECE E             TRAFFIC CONTROL AIDE-HOURLY   \n",
      "\n",
      "         Department Full or Part-Time Salary or Hourly  Typical Hours   \n",
      "0            POLICE                 F           Salary            NaN  \\\n",
      "1            POLICE                 F           Salary            NaN   \n",
      "2  GENERAL SERVICES                 F           Salary            NaN   \n",
      "3       WATER MGMNT                 F           Salary            NaN   \n",
      "4              OEMC                 P           Hourly           20.0   \n",
      "\n",
      "   Annual Salary  Hourly Rate  \n",
      "0       101442.0          NaN  \n",
      "1        94122.0          NaN  \n",
      "2       101592.0          NaN  \n",
      "3       110064.0          NaN  \n",
      "4            NaN        19.86  \n"
     ]
    }
   ],
   "source": [
    "from icecream import ic\n",
    "\n",
    "# ic(salaries)\n",
    "\n",
    "print(salaries.head())\n"
   ]
  },
  {
   "cell_type": "markdown",
   "metadata": {},
   "source": [
    "# Challenge 2 - Hypothesis Tests\n",
    "\n",
    "In this section of the lab, we will test whether the hourly wage of all hourly workers is significantly different from $30/hr. Import the correct one sample test function from scipy and perform the hypothesis test for a 95% two sided confidence interval."
   ]
  },
  {
   "cell_type": "code",
   "execution_count": 13,
   "metadata": {},
   "outputs": [
    {
     "name": "stdout",
     "output_type": "stream",
     "text": [
      "Test Statistic: 20.6198\n",
      "P-Value: < 0.001\n",
      "Reject the null hypothesis (H0), accept the alternate hypothesis (Ha): The mean hourly rate IS SIGNIFICANTLY DIFFERENT from $30/hr.\n"
     ]
    }
   ],
   "source": [
    "# test whether the hourly wage of all hourly workers is significantly different from $30/hr\n",
    "\n",
    "# Null hypothesis (H0): mean hourly rate = $30/hr.\n",
    "# Alternate hypothesis (Ha): mean hourly rate != $30/hr.\n",
    "\n",
    "\n",
    "# import one sample test function from scipy\n",
    "from scipy.stats import ttest_1samp \n",
    "\n",
    "\n",
    "# filter for hourly workers and get their hourly rates\n",
    "hourly_workers = salaries[salaries['Salary or Hourly'] == 'Hourly']\n",
    "hourly_rates = hourly_workers['Hourly Rate'].dropna()  # Remove NaN values\n",
    "\n",
    "#  one-sample t-test\n",
    "test_statistic, p_value = ttest_1samp(hourly_rates, 30)\n",
    "\n",
    "# Print the results\n",
    "print(\"Test Statistic:\", round(test_statistic, 4))\n",
    "\n",
    "if p_value < 0.001:\n",
    "    print(\"P-Value: < 0.001\")\n",
    "else:\n",
    "    print(\"P-Value:\", round(p_value, 4))\n",
    "\n",
    "# Evaluate the result\n",
    "alpha = 0.05  # 95% confidence level\n",
    "if p_value < alpha:\n",
    "    print(\"Reject the null hypothesis (H0), accept the alternate hypothesis (Ha): The mean hourly rate IS SIGNIFICANTLY DIFFERENT from $30/hr.\")\n",
    "else:\n",
    "    print(\"DO NOT reject the null hypothesis: There is NO SIGNIFICANT DIFFERENCE from $30/hr.\")"
   ]
  },
  {
   "cell_type": "markdown",
   "metadata": {},
   "source": [
    "# Challenge 3 - Constructing Confidence Intervals\n",
    "\n",
    "While testing our hypothesis is a great way to gather empirical evidence for accepting or rejecting the hypothesis, another way to gather evidence is by creating a confidence interval. A confidence interval gives us information about the true mean of the population. So for a 95% confidence interval, we are 95% sure that the mean of the population is within the confidence interval. \n",
    ").\n",
    "\n",
    "To read more about confidence intervals, click [here](https://en.wikipedia.org/wiki/Confidence_interval).\n",
    "\n",
    "\n",
    "In the cell below, we will construct a 95% confidence interval for the mean hourly wage of all hourly workers. \n",
    "\n",
    "The confidence interval is computed in SciPy using the `t.interval` function. You can read more about this function [here](https://docs.scipy.org/doc/scipy-0.14.0/reference/generated/scipy.stats.t.html).\n",
    "\n",
    "To compute the confidence interval of the hourly wage, use the 0.95 for the confidence level, number of rows - 1 for degrees of freedom, the mean of the sample for the location parameter and the standard error for the scale. The standard error can be computed using [this](https://docs.scipy.org/doc/scipy/reference/generated/scipy.stats.sem.html) function in SciPy."
   ]
  },
  {
   "cell_type": "code",
   "execution_count": 17,
   "metadata": {},
   "outputs": [
    {
     "name": "stdout",
     "output_type": "stream",
     "text": [
      "Mean Hourly Rate: $ 32.79\n",
      "Standard Error Hourly Rate: $ 0.14\n",
      "95% Confidence Interval: (32.52, 33.05)\n"
     ]
    }
   ],
   "source": [
    "import numpy as np\n",
    "from scipy.stats import t\n",
    "\n",
    "# Calculate basic statistics\n",
    "n = len(hourly_rates)\n",
    "hourly_rates_mean = np.mean(hourly_rates)\n",
    "hourly_rates_stdev = np.std(hourly_rates, ddof=1)  # Use ddof=1 for sample standard deviation\n",
    "hourly_rates_sterror = hourly_rates_stdev / np.sqrt(n)\n",
    "\n",
    "# 95% confidence interval\n",
    "confidence_level = 0.95\n",
    "degrees_of_freedom = n - 1\n",
    "\n",
    "confidence_interval = t.interval( # Confidence interval with equal areas around the median.\n",
    "    confidence_level, \n",
    "    df=degrees_of_freedom, \n",
    "    loc=hourly_rates_mean, \n",
    "    scale=hourly_rates_sterror\n",
    ")\n",
    "\n",
    "# Print results\n",
    "print(\"Mean Hourly Rate: $\", round(hourly_rates_mean, 2))\n",
    "print(\"Standard Error Hourly Rate: $\", round(hourly_rates_sterror, 2))\n",
    "print(\"95% Confidence Interval:\", (round(confidence_interval[0], 2), round(confidence_interval[1], 2)))\n"
   ]
  },
  {
   "cell_type": "markdown",
   "metadata": {},
   "source": [
    "# Challenge 4 - Hypothesis Tests of Proportions\n",
    "\n",
    "Another type of one sample test is a hypothesis test of proportions. In this test, we examine whether the proportion of a group in our sample is significantly different than a fraction. \n",
    "\n",
    "You can read more about one sample proportion tests [here](http://sphweb.bumc.bu.edu/otlt/MPH-Modules/BS/SAS/SAS6-CategoricalData/SAS6-CategoricalData2.html).\n",
    "\n",
    "In the cell below, use the `proportions_ztest` function from `statsmodels` to perform a hypothesis test that will determine whether the number of hourly workers in the City of Chicago is significantly different from 25% at the 95% confidence level."
   ]
  },
  {
   "cell_type": "code",
   "execution_count": 19,
   "metadata": {},
   "outputs": [
    {
     "name": "stdout",
     "output_type": "stream",
     "text": [
      "Test Statistic (z): -3.51\n",
      "P-Value: < 0.001\n",
      "Reject the null hypothesis (H0), accept the alternate hypothesis (Ha): The proportion of hourly workers IS SIGNIFICANTY DIFFERENT from 25%.\n"
     ]
    }
   ],
   "source": [
    "# Null hypothesis (H0): The proportion of hourly workers = 25% (p = 0.25)\n",
    "# Alternative hypothesis hypothesis (Ha): The proportion of hourly workers != 25% (p != 0.25)\n",
    "\n",
    "from statsmodels.stats.proportion import proportions_ztest\n",
    "\n",
    "\n",
    "\n",
    "# Total number of employees and hourly workers\n",
    "total_employees = len(salaries)\n",
    "hourly_workers_count = len(salaries[salaries['Salary or Hourly'] == 'Hourly'])\n",
    "\n",
    "# Hypothesized proportion\n",
    "hypothesized_proportion = 0.25\n",
    "\n",
    "# Perform the z-test for proportions\n",
    "test_statistic, p_value = proportions_ztest(\n",
    "    count=hourly_workers_count, \n",
    "    nobs=total_employees, \n",
    "    value=hypothesized_proportion, \n",
    "    alternative='two-sided'  # 95% confidence level (two-tailed test)\n",
    ")\n",
    "\n",
    "# Print the results\n",
    "print(\"Test Statistic (z):\", round(test_statistic, 4))\n",
    "\n",
    "if p_value < 0.001:\n",
    "    print(\"P-Value: < 0.001\")\n",
    "else:\n",
    "    print(\"P-Value:\", round(p_value, 4))\n",
    "\n",
    "\n",
    "# Evaluate the result\n",
    "alpha = 0.05  # 95% confidence level\n",
    "if p_value < alpha:\n",
    "    print(\"Reject the null hypothesis (H0), accept the alternate hypothesis (Ha): The proportion of hourly workers IS SIGNIFICANTY DIFFERENT from 25%.\")\n",
    "else:\n",
    "    print(\"DO NOT reject the null hypothesis: The proportion of hourly workers IS NOT SIGNIFICANTLY DIFFERENT from 25%.\")"
   ]
  }
 ],
 "metadata": {
  "kernelspec": {
   "display_name": "Python 3",
   "language": "python",
   "name": "python3"
  },
  "language_info": {
   "codemirror_mode": {
    "name": "ipython",
    "version": 3
   },
   "file_extension": ".py",
   "mimetype": "text/x-python",
   "name": "python",
   "nbconvert_exporter": "python",
   "pygments_lexer": "ipython3",
   "version": "3.10.10"
  }
 },
 "nbformat": 4,
 "nbformat_minor": 2
}
