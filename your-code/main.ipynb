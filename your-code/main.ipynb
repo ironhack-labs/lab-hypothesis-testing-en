{
 "cells": [
  {
   "cell_type": "markdown",
   "metadata": {},
   "source": [
    "# Before your start:\n",
    "- Read the README.md file\n",
    "- Comment as much as you can and use the resources (README.md file)\n",
    "- Happy learning!"
   ]
  },
  {
   "cell_type": "code",
   "execution_count": 1,
   "metadata": {},
   "outputs": [],
   "source": [
    "# import numpy and pandas\n",
    "import pandas as pd\n",
    "import numpy as np\n",
    "from scipy.stats import trim_mean, mode, skew, gaussian_kde, pearsonr, spearmanr, beta\n",
    "from statsmodels.stats.weightstats import ztest as ztest\n",
    "\n",
    "from scipy.stats import ttest_ind, norm, t\n",
    "from scipy.stats import f_oneway\n",
    "from scipy.stats import sem"
   ]
  },
  {
   "cell_type": "markdown",
   "metadata": {},
   "source": [
    "# Challenge 1 - Exploring the Data\n",
    "\n",
    "In this challenge, we will examine all salaries of employees of the City of Chicago. We will start by loading the dataset and examining its contents"
   ]
  },
  {
   "cell_type": "code",
   "execution_count": 2,
   "metadata": {},
   "outputs": [],
   "source": [
    "# Run this code\n",
    "salaries = pd.read_csv('../data/Current_Employee_Names__Salaries__and_Position_Titles.csv')\n"
   ]
  },
  {
   "cell_type": "markdown",
   "metadata": {},
   "source": [
    "Examine the `salaries` dataset using the `head` function below."
   ]
  },
  {
   "cell_type": "code",
   "execution_count": 5,
   "metadata": {},
   "outputs": [
    {
     "data": {
      "text/html": [
       "<div>\n",
       "<style scoped>\n",
       "    .dataframe tbody tr th:only-of-type {\n",
       "        vertical-align: middle;\n",
       "    }\n",
       "\n",
       "    .dataframe tbody tr th {\n",
       "        vertical-align: top;\n",
       "    }\n",
       "\n",
       "    .dataframe thead th {\n",
       "        text-align: right;\n",
       "    }\n",
       "</style>\n",
       "<table border=\"1\" class=\"dataframe\">\n",
       "  <thead>\n",
       "    <tr style=\"text-align: right;\">\n",
       "      <th></th>\n",
       "      <th>Name</th>\n",
       "      <th>Job Titles</th>\n",
       "      <th>Department</th>\n",
       "      <th>Full or Part-Time</th>\n",
       "      <th>Salary or Hourly</th>\n",
       "      <th>Typical Hours</th>\n",
       "      <th>Annual Salary</th>\n",
       "      <th>Hourly Rate</th>\n",
       "    </tr>\n",
       "  </thead>\n",
       "  <tbody>\n",
       "    <tr>\n",
       "      <th>0</th>\n",
       "      <td>AARON,  JEFFERY M</td>\n",
       "      <td>SERGEANT</td>\n",
       "      <td>POLICE</td>\n",
       "      <td>F</td>\n",
       "      <td>Salary</td>\n",
       "      <td>NaN</td>\n",
       "      <td>101442.0</td>\n",
       "      <td>NaN</td>\n",
       "    </tr>\n",
       "    <tr>\n",
       "      <th>1</th>\n",
       "      <td>AARON,  KARINA</td>\n",
       "      <td>POLICE OFFICER (ASSIGNED AS DETECTIVE)</td>\n",
       "      <td>POLICE</td>\n",
       "      <td>F</td>\n",
       "      <td>Salary</td>\n",
       "      <td>NaN</td>\n",
       "      <td>94122.0</td>\n",
       "      <td>NaN</td>\n",
       "    </tr>\n",
       "    <tr>\n",
       "      <th>2</th>\n",
       "      <td>AARON,  KIMBERLEI R</td>\n",
       "      <td>CHIEF CONTRACT EXPEDITER</td>\n",
       "      <td>GENERAL SERVICES</td>\n",
       "      <td>F</td>\n",
       "      <td>Salary</td>\n",
       "      <td>NaN</td>\n",
       "      <td>101592.0</td>\n",
       "      <td>NaN</td>\n",
       "    </tr>\n",
       "    <tr>\n",
       "      <th>3</th>\n",
       "      <td>ABAD JR,  VICENTE M</td>\n",
       "      <td>CIVIL ENGINEER IV</td>\n",
       "      <td>WATER MGMNT</td>\n",
       "      <td>F</td>\n",
       "      <td>Salary</td>\n",
       "      <td>NaN</td>\n",
       "      <td>110064.0</td>\n",
       "      <td>NaN</td>\n",
       "    </tr>\n",
       "    <tr>\n",
       "      <th>4</th>\n",
       "      <td>ABASCAL,  REECE E</td>\n",
       "      <td>TRAFFIC CONTROL AIDE-HOURLY</td>\n",
       "      <td>OEMC</td>\n",
       "      <td>P</td>\n",
       "      <td>Hourly</td>\n",
       "      <td>20.0</td>\n",
       "      <td>NaN</td>\n",
       "      <td>19.86</td>\n",
       "    </tr>\n",
       "  </tbody>\n",
       "</table>\n",
       "</div>"
      ],
      "text/plain": [
       "                  Name                              Job Titles  \\\n",
       "0    AARON,  JEFFERY M                                SERGEANT   \n",
       "1      AARON,  KARINA   POLICE OFFICER (ASSIGNED AS DETECTIVE)   \n",
       "2  AARON,  KIMBERLEI R                CHIEF CONTRACT EXPEDITER   \n",
       "3  ABAD JR,  VICENTE M                       CIVIL ENGINEER IV   \n",
       "4    ABASCAL,  REECE E             TRAFFIC CONTROL AIDE-HOURLY   \n",
       "\n",
       "         Department Full or Part-Time Salary or Hourly  Typical Hours  \\\n",
       "0            POLICE                 F           Salary            NaN   \n",
       "1            POLICE                 F           Salary            NaN   \n",
       "2  GENERAL SERVICES                 F           Salary            NaN   \n",
       "3       WATER MGMNT                 F           Salary            NaN   \n",
       "4              OEMC                 P           Hourly           20.0   \n",
       "\n",
       "   Annual Salary  Hourly Rate  \n",
       "0       101442.0          NaN  \n",
       "1        94122.0          NaN  \n",
       "2       101592.0          NaN  \n",
       "3       110064.0          NaN  \n",
       "4            NaN        19.86  "
      ]
     },
     "execution_count": 5,
     "metadata": {},
     "output_type": "execute_result"
    }
   ],
   "source": [
    "# Your code here\n",
    "\n",
    "salaries.head()\n"
   ]
  },
  {
   "cell_type": "markdown",
   "metadata": {},
   "source": [
    "# Challenge 2 - Hypothesis Tests\n",
    "\n",
    "In this section of the lab, we will test whether the hourly wage of all hourly workers is significantly different from $30/hr. Import the correct one sample test function from scipy and perform the hypothesis test for a 95% two sided confidence interval."
   ]
  },
  {
   "cell_type": "code",
   "execution_count": 24,
   "metadata": {},
   "outputs": [
    {
     "name": "stdout",
     "output_type": "stream",
     "text": [
      "Shapiro-Wilk Test for normality on Hourly Rate: p-value = 1.2190878727836506e-30\n",
      "The data is not normally distributed. Consider using non-parametric tests.\n"
     ]
    }
   ],
   "source": [
    "# Your code here (I added this)\n",
    "\n",
    "from scipy.stats import shapiro\n",
    "\n",
    "# Filter the data for hourly workers\n",
    "hourly_workers = salaries[salaries['Full or Part-Time'] == 'P']\n",
    "\n",
    "# Perform the Shapiro-Wilk test for normality on the hourly rate\n",
    "stat, p_value = shapiro(hourly_workers['Hourly Rate'].dropna())  # Adjust column name as necessary\n",
    "print(f\"Shapiro-Wilk Test for normality on Hourly Rate: p-value = {p_value}\")\n",
    "\n",
    "# If p-value < 0.05, data is not normally distributed\n",
    "if p_value < 0.05:\n",
    "    print(\"The data is not normally distributed. Consider using non-parametric tests.\")\n",
    "else:\n",
    "    print(\"The data is normally distributed. Proceeding with t-test.\")\n"
   ]
  },
  {
   "cell_type": "markdown",
   "metadata": {},
   "source": [
    "### Challenge 2 - Normality Check\n",
    "\n",
    "The Shapiro-Wilk test was performed to check if the hourly rate data follows a normal distribution. The p-value for the test is extremely small (**1.22e-30**), which is much lower than the significance threshold of **0.05**. \n",
    "\n",
    "Since the p-value is less than **0.05**, we reject the null hypothesis and conclude that the hourly rate data **is not normally distributed**. This suggests that the assumption of normality required for the t-test is violated.\n",
    "\n",
    "As a result, we should consider using **non-parametric tests** instead of the t-test to ensure the robustness of our conclusions.\n"
   ]
  },
  {
   "cell_type": "code",
   "execution_count": 14,
   "metadata": {},
   "outputs": [
    {
     "name": "stdout",
     "output_type": "stream",
     "text": [
      "Wilcoxon signed-rank test statistic: 8692.0\n",
      "P-value: 0.0\n"
     ]
    }
   ],
   "source": [
    "# Your code here\n",
    "\n",
    "from scipy.stats import wilcoxon\n",
    "\n",
    "# Perform the Wilcoxon signed-rank test for comparing the hourly rate to 30\n",
    "# We subtract 30 from each hourly rate to check if it differs from the hypothesized value\n",
    "hourly_diff = hourly_workers['Hourly Rate'].dropna() - 30\n",
    "\n",
    "# Perform the Wilcoxon signed-rank test\n",
    "stat, p_value = wilcoxon(hourly_diff)\n",
    "\n",
    "# Output the results of the Wilcoxon signed-rank test\n",
    "print(f\"Wilcoxon signed-rank test statistic: {stat}\")\n",
    "print(f\"P-value: {p_value}\")\n",
    "\n"
   ]
  },
  {
   "cell_type": "markdown",
   "metadata": {},
   "source": [
    "### Challenge 2 - Hypothesis Test Results\n",
    "\n",
    "In this test, we aimed to determine whether the hourly wage of all hourly workers is significantly different from `$30` per hour. The null hypothesis is that the median hourly wage is equal to `$30`.\n",
    "\n",
    "Since the data did not meet the normality assumption required for the t-test, we used the **Wilcoxon signed-rank test**, a non-parametric test, to compare the hourly wages to `$30`. \n",
    "\n",
    "The **Wilcoxon signed-rank test** is the most appropriate test in this case because:\n",
    "- We are comparing the **central tendency** (median) of a single sample (hourly workers' wages) to a **fixed value** ($30), and the test accounts for non-normality in the data.\n",
    "- The **Mann-Whitney U test** is not appropriate because it compares two **independent groups**, and we only have one group of hourly workers to compare to the fixed value of 30.\n",
    "\n",
    "The results of the **Wilcoxon signed-rank test** are as follows:\n",
    "\n",
    "- **Test statistic**: 8692.0\n",
    "- **P-value**: 0.0\n",
    "\n",
    "#### Interpretation:\n",
    "- **Test statistic**: The test statistic (8692.0) represents the sum of the ranks of the absolute differences between the hourly wage and the hypothesized value of `$30`.\n",
    "- **P-value**: A p-value of **0.0** is much smaller than the commonly used significance level of **0.05**. This means we **reject the null hypothesis**, indicating that the median hourly wage is significantly different from `$30/hr`.\n",
    "\n",
    "Therefore, based on this analysis, we conclude that the hourly wage for the workers in this dataset is statistically significantly different from `$30`.\n"
   ]
  },
  {
   "cell_type": "markdown",
   "metadata": {},
   "source": [
    "# Challenge 3 - Constructing Confidence Intervals\n",
    "\n",
    "While testing our hypothesis is a great way to gather empirical evidence for accepting or rejecting the hypothesis, another way to gather evidence is by creating a confidence interval. A confidence interval gives us information about the true mean of the population. So for a 95% confidence interval, we are 95% sure that the mean of the population is within the confidence interval. \n",
    ").\n",
    "\n",
    "To read more about confidence intervals, click [here](https://en.wikipedia.org/wiki/Confidence_interval).\n",
    "\n",
    "\n",
    "In the cell below, we will construct a 95% confidence interval for the mean hourly wage of all hourly workers. \n",
    "\n",
    "The confidence interval is computed in SciPy using the `t.interval` function. You can read more about this function [here](https://docs.scipy.org/doc/scipy-0.14.0/reference/generated/scipy.stats.t.html).\n",
    "\n",
    "To compute the confidence interval of the hourly wage, use the 0.95 for the confidence level, number of rows - 1 for degrees of freedom, the mean of the sample for the location parameter and the standard error for the scale. The standard error can be computed using [this](https://docs.scipy.org/doc/scipy/reference/generated/scipy.stats.sem.html) function in SciPy."
   ]
  },
  {
   "cell_type": "code",
   "execution_count": 26,
   "metadata": {},
   "outputs": [
    {
     "name": "stdout",
     "output_type": "stream",
     "text": [
      "Shapiro-Wilk Test for normality on Hourly Rate: p-value = 1.2190878727836506e-30\n",
      "The data is not normally distributed. Consider using non-parametric tests.\n"
     ]
    }
   ],
   "source": [
    "# Your code here (I added this)\n",
    "\n",
    "from scipy.stats import shapiro\n",
    "\n",
    "# Perform the Shapiro-Wilk test for normality on the hourly rate\n",
    "stat, p_value = shapiro(hourly_workers['Hourly Rate'].dropna())  # Adjust column name as necessary\n",
    "print(f\"Shapiro-Wilk Test for normality on Hourly Rate: p-value = {p_value}\")\n",
    "\n",
    "# If p-value < 0.05, data is not normally distributed\n",
    "if p_value < 0.05:\n",
    "    print(\"The data is not normally distributed. Consider using non-parametric tests.\")\n",
    "else:\n",
    "    print(\"The data is normally distributed. Proceeding with t-test.\")\n"
   ]
  },
  {
   "cell_type": "markdown",
   "metadata": {},
   "source": [
    "### Challenge 3 - Normality Check\n",
    "\n",
    "In this challenge, we performed a **Shapiro-Wilk test** to check if the hourly rate data follows a normal distribution. The p-value for the test is extremely small (**1.22e-30**), which is much lower than the significance threshold of **0.05**.\n",
    "\n",
    "Since the p-value is less than **0.05**, we **reject the null hypothesis** and conclude that the hourly rate data **is not normally distributed**. This suggests that the assumption of normality required for methods like the **t-test** is violated.\n",
    "\n",
    "As a result, we should consider using **non-parametric tests** (like bootstrapping or the Wilcoxon signed-rank test) to analyze the data, as these methods do not rely on the assumption of normality.\n"
   ]
  },
  {
   "cell_type": "code",
   "execution_count": 19,
   "metadata": {},
   "outputs": [
    {
     "name": "stdout",
     "output_type": "stream",
     "text": [
      "95% Confidence Interval: (16.901882831181258, 17.479616212338595)\n"
     ]
    }
   ],
   "source": [
    "# Your code here\n",
    "\n",
    "import numpy as np\n",
    "\n",
    "# Set random seed for reproducibility\n",
    "np.random.seed(42)\n",
    "\n",
    "# Define the number of bootstrap samples\n",
    "n_bootstraps = 10000\n",
    "\n",
    "# List to store the means of the bootstrap samples\n",
    "bootstrap_means = []\n",
    "\n",
    "# Generate bootstrap samples and calculate their means\n",
    "for _ in range(n_bootstraps):\n",
    "    sample = np.random.choice(hourly_workers['Hourly Rate'].dropna(), size=len(hourly_workers['Hourly Rate'].dropna()), replace=True)\n",
    "    bootstrap_means.append(np.mean(sample))\n",
    "\n",
    "# Calculate the 2.5% and 97.5% percentiles for the 95% confidence interval\n",
    "ci_lower = np.percentile(bootstrap_means, 2.5)\n",
    "ci_upper = np.percentile(bootstrap_means, 97.5)\n",
    "\n",
    "# Output the confidence interval\n",
    "print(f\"95% Confidence Interval: ({ci_lower}, {ci_upper})\")\n",
    "\n"
   ]
  },
  {
   "cell_type": "markdown",
   "metadata": {},
   "source": [
    "### Challenge 3 - Confidence Interval Results\n",
    "\n",
    "In this challenge, we aimed to construct a **95% confidence interval** for the **mean hourly wage** of all hourly workers. Since the hourly wage data was not normally distributed (as confirmed by the **Shapiro-Wilk test**), we used **bootstrapping** as a non-parametric method to estimate the confidence interval for the mean.\n",
    "\n",
    "The results of the bootstrapping are as follows:\n",
    "\n",
    "- **95% Confidence Interval**: (16.90, 17.48)\n",
    "\n",
    "#### Why Bootstrapping is the Most Appropriate Method:\n",
    "\n",
    "- **Non-parametric**: Bootstrapping is a **non-parametric** method that doesn't rely on any assumptions about the distribution of the data. In this case, since the hourly wage data was found to be **non-normally distributed**, bootstrapping is an ideal choice because it doesn't require the data to follow a normal distribution.\n",
    "- **Resampling with Replacement**: Bootstrapping works by repeatedly sampling with replacement from the original dataset, which allows us to approximate the sampling distribution of the mean. By generating a large number of resamples, we can calculate the confidence interval based on these simulated samples.\n",
    "- **Robust to Non-normality**: Unlike methods like the t-test, which assume normality, bootstrapping remains robust even when the data is skewed, contains outliers, or violates other assumptions. This makes it especially useful when dealing with real-world data that doesn't fit well-known distributions.\n",
    "\n",
    "#### Interpretation:\n",
    "- The **95% confidence interval** means that we are 95% confident that the **true mean** of the hourly wage for all hourly workers in this dataset lies between **`$16.90`** and **`$17.48`**.\n",
    "- This interval provides us with a range of plausible values for the population mean based on the sample data. Since this is a **non-parametric method**, it does not rely on the assumption of normality, making it robust even for skewed data.\n",
    "\n",
    "Therefore, based on this confidence interval, we conclude that the hourly wage for the workers in this dataset is most likely between **`$16.90`** and **`$17.48`** per hour.\n"
   ]
  },
  {
   "cell_type": "markdown",
   "metadata": {},
   "source": [
    "# Challenge 4 - Hypothesis Tests of Proportions\n",
    "\n",
    "Another type of one sample test is a hypothesis test of proportions. In this test, we examine whether the proportion of a group in our sample is significantly different than a fraction. \n",
    "\n",
    "You can read more about one sample proportion tests [here](http://sphweb.bumc.bu.edu/otlt/MPH-Modules/BS/SAS/SAS6-CategoricalData/SAS6-CategoricalData2.html).\n",
    "\n",
    "In the cell below, use the `proportions_ztest` function from `statsmodels` to perform a hypothesis test that will determine whether the number of hourly workers in the City of Chicago is significantly different from 25% at the 95% confidence level."
   ]
  },
  {
   "cell_type": "code",
   "execution_count": 28,
   "metadata": {},
   "outputs": [
    {
     "name": "stdout",
     "output_type": "stream",
     "text": [
      "The sample size conditions are met. Proceeding with the proportions z-test.\n"
     ]
    }
   ],
   "source": [
    "# Your code here (I added this)\n",
    "\n",
    "# Number of hourly workers and total number of workers\n",
    "num_hourly_workers = len(hourly_workers)\n",
    "total_workers = len(salaries)\n",
    "\n",
    "# Hypothesized proportion (25%)\n",
    "hypothesized_proportion = 0.25\n",
    "\n",
    "# Check if the sample size conditions for the z-test are met\n",
    "successes = num_hourly_workers\n",
    "failures = total_workers - successes\n",
    "\n",
    "# Check the conditions\n",
    "if successes >= 10 and failures >= 10:\n",
    "    print(\"The sample size conditions are met. Proceeding with the proportions z-test.\")\n",
    "else:\n",
    "    print(\"The sample size conditions are not met. Consider using an alternative method.\")\n"
   ]
  },
  {
   "cell_type": "markdown",
   "metadata": {},
   "source": [
    "### Challenge 4 - Check Samplie Size Conditions for the Proportions Z-Test\n",
    "\n",
    "In this challenge, we are testing whether the proportion of hourly workers in the City of Chicago is significantly different from 25%. The null hypothesis is that the proportion of hourly workers is equal to 25% (i.e., 0.25), while the alternative hypothesis is that the proportion is different.\n",
    "\n",
    "Before performing the **proportions z-test**, we checked the **sample size conditions** to ensure that the normal approximation for the z-test is valid. Specifically, the following conditions must be met:\n",
    "- **np ≥ 10** (number of successes)\n",
    "- **n(1 - p) ≥ 10** (number of failures)\n",
    "\n",
    "These conditions ensure that the sampling distribution of the proportion can be approximated by a normal distribution, making the z-test appropriate. In our case, the conditions were satisfied, and we proceeded with the **proportions z-test**.\n",
    "\n",
    "#### Interpretation:\n",
    "- The **sample size conditions** are met, meaning that the normal approximation for the z-test is valid.\n",
    "- The **proportions z-test** can now be performed, and we can conclude whether the proportion of hourly workers is significantly different from 25%.\n",
    "\n",
    "By confirming that the conditions are met, we ensure that the statistical test we apply is reliable and valid.\n"
   ]
  },
  {
   "cell_type": "code",
   "execution_count": 37,
   "metadata": {},
   "outputs": [
    {
     "name": "stdout",
     "output_type": "stream",
     "text": [
      "Z-statistic: -140.0706441086974\n",
      "P-value: 0.0\n"
     ]
    }
   ],
   "source": [
    "# Your code here\n",
    "\n",
    "from statsmodels.stats.proportion import proportions_ztest\n",
    "\n",
    "# Calculate the number of hourly workers and total number of workers\n",
    "num_hourly_workers = len(hourly_workers)\n",
    "total_workers = len(salaries)\n",
    "\n",
    "# Hypothesized proportion (25%)\n",
    "hypothesized_proportion = 0.25\n",
    "\n",
    "# Perform the proportions z-test\n",
    "z_stat, p_value = proportions_ztest(num_hourly_workers, total_workers, hypothesized_proportion)\n",
    "\n",
    "# Output the results\n",
    "print(f\"Z-statistic: {z_stat}\")\n",
    "print(f\"P-value: {p_value}\")\n"
   ]
  },
  {
   "cell_type": "markdown",
   "metadata": {},
   "source": [
    "### Challenge 4 - Hypothesis Test of Proportions Results\n",
    "\n",
    "In this challenge, we performed a hypothesis test to determine if the proportion of hourly workers in the City of Chicago is significantly different from 25%. The null hypothesis is that the proportion of hourly workers is equal to 25%.\n",
    "\n",
    "The results of the hypothesis test are as follows:\n",
    "\n",
    "- **Z-statistic**: -140.07\n",
    "- **P-value**: 0.0\n",
    "\n",
    "#### Interpretation:\n",
    "- **Z-statistic**: The z-statistic of **-140.07** indicates that the observed proportion of hourly workers is very far from the hypothesized proportion of 25%. A large absolute value of the z-statistic suggests a significant difference between the observed and hypothesized proportions.\n",
    "- **P-value**: A p-value of **0.0** is much smaller than the commonly used significance level of **0.05**, which indicates that we **reject the null hypothesis**. This suggests that the proportion of hourly workers is significantly different from 25%.\n",
    "\n",
    "Thus, based on the hypothesis test, we conclude that the proportion of hourly workers in the City of Chicago is significantly different from 25%.\n"
   ]
  },
  {
   "cell_type": "code",
   "execution_count": null,
   "metadata": {},
   "outputs": [],
   "source": []
  }
 ],
 "metadata": {
  "kernelspec": {
   "display_name": "Python [conda env:base] *",
   "language": "python",
   "name": "conda-base-py"
  },
  "language_info": {
   "codemirror_mode": {
    "name": "ipython",
    "version": 3
   },
   "file_extension": ".py",
   "mimetype": "text/x-python",
   "name": "python",
   "nbconvert_exporter": "python",
   "pygments_lexer": "ipython3",
   "version": "3.12.7"
  }
 },
 "nbformat": 4,
 "nbformat_minor": 4
}
