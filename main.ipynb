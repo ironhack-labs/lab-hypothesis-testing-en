{
 "cells": [
  {
   "cell_type": "markdown",
   "metadata": {},
   "source": [
    "# Before your start:\n",
    "- Read the README.md file\n",
    "- Comment as much as you can and use the resources (README.md file)\n",
    "- Happy learning!"
   ]
  },
  {
   "cell_type": "code",
   "execution_count": 2,
   "metadata": {},
   "outputs": [],
   "source": [
    "# import numpy and pandas\n",
    "import pandas as pd\n",
    "import numpy as np\n",
    "from scipy.stats import trim_mean, mode, skew, gaussian_kde, pearsonr, spearmanr, beta\n",
    "from statsmodels.stats.weightstats import ztest as ztest\n",
    "\n",
    "from scipy.stats import ttest_ind, norm, t\n",
    "from scipy.stats import f_oneway\n",
    "from scipy.stats import sem"
   ]
  },
  {
   "cell_type": "markdown",
   "metadata": {},
   "source": [
    "# Challenge 1 - Exploring the Data\n",
    "\n",
    "In this challenge, we will examine all salaries of employees of the City of Chicago. We will start by loading the dataset and examining its contents"
   ]
  },
  {
   "cell_type": "code",
   "execution_count": 7,
   "metadata": {},
   "outputs": [],
   "source": [
    "# Run this code:\n",
    "salaries = pd.read_csv('/Users/sylviaperez-montero/Desktop/lab-hypothesis-testing-en-main/data/Current_Employee_Names__Salaries__and_Position_Titles.csv')"
   ]
  },
  {
   "cell_type": "markdown",
   "metadata": {},
   "source": [
    "Examine the `salaries` dataset using the `head` function below."
   ]
  },
  {
   "cell_type": "code",
   "execution_count": 12,
   "metadata": {},
   "outputs": [
    {
     "name": "stdout",
     "output_type": "stream",
     "text": [
      "                  Name                              Job Titles  \\\n",
      "0    AARON,  JEFFERY M                                SERGEANT   \n",
      "1      AARON,  KARINA   POLICE OFFICER (ASSIGNED AS DETECTIVE)   \n",
      "2  AARON,  KIMBERLEI R                CHIEF CONTRACT EXPEDITER   \n",
      "3  ABAD JR,  VICENTE M                       CIVIL ENGINEER IV   \n",
      "4    ABASCAL,  REECE E             TRAFFIC CONTROL AIDE-HOURLY   \n",
      "\n",
      "         Department Full or Part-Time Salary or Hourly  Typical Hours  \\\n",
      "0            POLICE                 F           Salary            NaN   \n",
      "1            POLICE                 F           Salary            NaN   \n",
      "2  GENERAL SERVICES                 F           Salary            NaN   \n",
      "3       WATER MGMNT                 F           Salary            NaN   \n",
      "4              OEMC                 P           Hourly           20.0   \n",
      "\n",
      "   Annual Salary  Hourly Rate  \n",
      "0       101442.0          NaN  \n",
      "1        94122.0          NaN  \n",
      "2       101592.0          NaN  \n",
      "3       110064.0          NaN  \n",
      "4            NaN        19.86  \n"
     ]
    }
   ],
   "source": [
    "# Examines the salaries dataset using the head function.\n",
    "print(salaries.head())\n"
   ]
  },
  {
   "cell_type": "markdown",
   "metadata": {},
   "source": [
    "# Challenge 2 - Hypothesis Tests\n",
    "\n",
    "In this section of the lab, we will test whether the hourly wage of all hourly workers is significantly different from $30/hr. Import the correct one sample test function from scipy and perform the hypothesis test for a 95% two sided confidence interval."
   ]
  },
  {
   "cell_type": "code",
   "execution_count": 18,
   "metadata": {},
   "outputs": [
    {
     "name": "stdout",
     "output_type": "stream",
     "text": [
      "Reject the null hypothesis: The mean hourly wage is significantly different from $30/hr.\n"
     ]
    }
   ],
   "source": [
    "# Tests whether the hourly wage of all hourly workers is significantly different from $30/hr.\n",
    "# Scipy is used. A hypothesis test for a 95% two sided confidence interval is conducted.\n",
    "# The main column evaluated is the Hourly Rate variable.\n",
    "\n",
    "from scipy import stats\n",
    "\n",
    "# Filters the dataset for hourly workers\n",
    "hourly_workers = salaries[salaries['Salary or Hourly'] == 'Hourly']\n",
    "\n",
    "# Extracts the hourly rate for these workers\n",
    "hourly_wages = hourly_workers['Hourly Rate'].dropna()  # Remove NaN values\n",
    "\n",
    "# Performs a two-sided one-sample t-test using the scipy.stats.ttest_1samp() function.\n",
    "# Null hypothesis: The mean hourly wage is 30\n",
    "# Alternative hypothesis: The mean hourly wage is different from 30\n",
    "t_stat, p_value = stats.ttest_1samp(hourly_wages, 30)\n",
    "\n",
    "# Significance level (alpha) for a 95% confidence interval\n",
    "alpha = 0.05\n",
    "\n",
    "# Conclusion based on comparing the p-value to alpha.\n",
    "# If the p-value is less than 0.05, the null hypothesis is rejected. This means the hourly wage is \n",
    "# significantly different from $30/hr.\n",
    "if p_value < alpha:\n",
    "    result = \"Reject the null hypothesis: The mean hourly wage is significantly different from $30/hr.\"\n",
    "else:\n",
    "    result = \"Fail to reject the null hypothesis: The mean hourly wage is not significantly different from $30/hr.\"\n",
    "\n",
    "# Print result\n",
    "print(result)"
   ]
  },
  {
   "cell_type": "markdown",
   "metadata": {},
   "source": [
    "# Challenge 3 - Constructing Confidence Intervals\n",
    "\n",
    "While testing our hypothesis is a great way to gather empirical evidence for accepting or rejecting the hypothesis, another way to gather evidence is by creating a confidence interval. A confidence interval gives us information about the true mean of the population. So for a 95% confidence interval, we are 95% sure that the mean of the population is within the confidence interval. \n",
    ").\n",
    "\n",
    "To read more about confidence intervals, click [here](https://en.wikipedia.org/wiki/Confidence_interval).\n",
    "\n",
    "\n",
    "In the cell below, we will construct a 95% confidence interval for the mean hourly wage of all hourly workers. \n",
    "\n",
    "The confidence interval is computed in SciPy using the `t.interval` function. You can read more about this function [here](https://docs.scipy.org/doc/scipy-0.14.0/reference/generated/scipy.stats.t.html).\n",
    "\n",
    "To compute the confidence interval of the hourly wage, use the 0.95 for the confidence level, number of rows - 1 for degrees of freedom, the mean of the sample for the location parameter and the standard error for the scale. The standard error can be computed using [this](https://docs.scipy.org/doc/scipy/reference/generated/scipy.stats.sem.html) function in SciPy."
   ]
  },
  {
   "cell_type": "code",
   "execution_count": 20,
   "metadata": {},
   "outputs": [
    {
     "name": "stdout",
     "output_type": "stream",
     "text": [
      "The 95% confidence interval for the mean hourly wage is: (32.52345834488425, 33.05365708767623)\n"
     ]
    }
   ],
   "source": [
    "# Constructs a 95% confidence interval for the mean hourly wage of all hourly workers.\n",
    "\n",
    "import numpy as np\n",
    "from scipy import stats\n",
    "\n",
    "# Filter the dataset for hourly workers\n",
    "hourly_workers = salaries[salaries['Salary or Hourly'] == 'Hourly'] \n",
    "\n",
    "# Extract the hourly rate for these workers\n",
    "hourly_wages = hourly_workers['Hourly Rate'].dropna()  # Removes NaN values\n",
    "\n",
    "# Calculate the sample mean\n",
    "sample_mean = np.mean(hourly_wages)\n",
    "\n",
    "# Calculate the sample standard deviation\n",
    "sample_std = np.std(hourly_wages, ddof=1)  # Use ddof=1 for sample standard deviation\n",
    "\n",
    "# Calculate the sample size (number of hourly workers)\n",
    "n = len(hourly_wages)\n",
    "\n",
    "# Calculate the standard error of the sample\n",
    "standard_error = sample_std / np.sqrt(n)\n",
    "\n",
    "# Degrees of freedom\n",
    "df = n - 1\n",
    "\n",
    "# Calculate the 95% confidence interval for the mean hourly wage\n",
    "confidence_level = 0.95\n",
    "confidence_interval = stats.t.interval(confidence_level, df, loc=sample_mean, scale=standard_error)\n",
    "\n",
    "# Print the result\n",
    "print(f\"The 95% confidence interval for the mean hourly wage is: {confidence_interval}\")"
   ]
  },
  {
   "cell_type": "markdown",
   "metadata": {},
   "source": [
    "# Challenge 4 - Hypothesis Tests of Proportions\n",
    "\n",
    "Another type of one sample test is a hypothesis test of proportions. In this test, we examine whether the proportion of a group in our sample is significantly different than a fraction. \n",
    "\n",
    "You can read more about one sample proportion tests [here](http://sphweb.bumc.bu.edu/otlt/MPH-Modules/BS/SAS/SAS6-CategoricalData/SAS6-CategoricalData2.html).\n",
    "\n",
    "In the cell below, use the `proportions_ztest` function from `statsmodels` to perform a hypothesis test that will determine whether the number of hourly workers in the City of Chicago is significantly different from 25% at the 95% confidence level."
   ]
  },
  {
   "cell_type": "code",
   "execution_count": 26,
   "metadata": {},
   "outputs": [
    {
     "name": "stdout",
     "output_type": "stream",
     "text": [
      "Z-statistic: -3.5100\n",
      "P-value: 0.0004\n",
      "Reject the null hypothesis: The proportion of hourly workers is significantly different from 25%.\n"
     ]
    }
   ],
   "source": [
    "# Uses the proportions_ztest function from statsmodels to perform a hypothesis test \n",
    "# that will determine whether the number of hourly workers in the City of Chicago is \n",
    "# significantly different from 25% at the 95% confidence level.\n",
    "\n",
    "# Null hypothesis, Ho: the proportion of hourly workers in Chicago is 25%, p = 0.25.\n",
    "# Alternative hypothesis, Ha: the proportion of hourly workers is different from 25% (p not equal to 0.25).\n",
    "\n",
    "import pandas as pd\n",
    "from statsmodels.stats.proportion import proportions_ztest\n",
    "\n",
    "# Load the dataset\n",
    "file_path = '/Users/sylviaperez-montero/Desktop/lab-hypothesis-testing-en-main/data/Current_Employee_Names__Salaries__and_Position_Titles.csv'\n",
    "df = pd.read_csv(file_path)\n",
    "\n",
    "# Filter the dataset for hourly workers\n",
    "hourly_workers = df[df['Salary or Hourly'] == 'Hourly']\n",
    "\n",
    "# Total number of workers in the dataset\n",
    "total_workers = len(df)\n",
    "\n",
    "# Count the number of hourly workers\n",
    "count_hourly_workers = len(hourly_workers)\n",
    "\n",
    "# Expected proportion under the null hypothesis\n",
    "expected_proportion = 0.25\n",
    "\n",
    "# Perform the two-sided z-test using proportions_ztest\n",
    "count = [count_hourly_workers]  # Number of hourly workers\n",
    "nobs = [total_workers]         # Total number of workers\n",
    "\n",
    "# Perform the z-test\n",
    "# The proportions_ztest() function from statsmodels is used to compare the sample proportion to 0.25.\n",
    "z_stat, p_value = proportions_ztest(count, nobs, value=expected_proportion, alternative='two-sided')\n",
    "\n",
    "# Extract the scalar values from the numpy arrays\n",
    "z_stat_value = z_stat[0]\n",
    "p_value_value = p_value[0]\n",
    "\n",
    "# Print the results\n",
    "print(f\"Z-statistic: {z_stat_value:.4f}\")\n",
    "print(f\"P-value: {p_value_value:.4f}\")\n",
    "\n",
    "# Decision based on the p-value\n",
    "alpha = 0.05\n",
    "if p_value_value < alpha:\n",
    "    result = \"Reject the null hypothesis: The proportion of hourly workers is significantly different from 25%.\"\n",
    "else:\n",
    "    result = \"Fail to reject the null hypothesis: The proportion of hourly workers is not significantly different from 25%.\"\n",
    "\n",
    "print(result)"
   ]
  }
 ],
 "metadata": {
  "kernelspec": {
   "display_name": "Python 3 (ipykernel)",
   "language": "python",
   "name": "python3"
  },
  "language_info": {
   "codemirror_mode": {
    "name": "ipython",
    "version": 3
   },
   "file_extension": ".py",
   "mimetype": "text/x-python",
   "name": "python",
   "nbconvert_exporter": "python",
   "pygments_lexer": "ipython3",
   "version": "3.12.7"
  }
 },
 "nbformat": 4,
 "nbformat_minor": 4
}
